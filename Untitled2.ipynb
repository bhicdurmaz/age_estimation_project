{
 "cells": [
  {
   "cell_type": "code",
   "execution_count": 1,
   "id": "ab5f0530-e6a0-4856-93dd-05a0e434ae18",
   "metadata": {},
   "outputs": [],
   "source": [
    "import scipy.io\n",
    "import pandas as pd\n",
    "import numpy as np\n",
    "import matplotlib.pyplot as plt\n",
    "import seaborn as sns\n",
    "from keras import applications,activations\n",
    "from keras.preprocessing.image import ImageDataGenerator,load_img,img_to_array\n",
    "from keras import optimizers,utils\n",
    "from keras.models import Sequential, Model \n",
    "from keras.layers import Dropout, Flatten, Dense, GlobalAveragePooling2D,BatchNormalization,ZeroPadding2D\n",
    "from keras.layers import Convolution2D, Activation,MaxPooling2D\n",
    "from keras import backend as k \n",
    "from keras.callbacks import ModelCheckpoint, LearningRateScheduler, TensorBoard, EarlyStopping"
   ]
  },
  {
   "cell_type": "code",
   "execution_count": 2,
   "id": "6c5f5656-f6ce-4d42-8191-7abc2e7693e9",
   "metadata": {},
   "outputs": [],
   "source": [
    "mat = scipy.io.loadmat('wiki.mat')"
   ]
  },
  {
   "cell_type": "code",
   "execution_count": 3,
   "id": "f07791b7-ea97-4159-bd6e-df45bba229ce",
   "metadata": {},
   "outputs": [],
   "source": [
    "# Converting into pandas dataframe. Always easier and better to deal with :)\n",
    "\n",
    "instances = mat['wiki'][0][0][0].shape[1]\n",
    " \n",
    "columns = [\"dob\", \"photo_taken\", \"full_path\", \"gender\", \"name\", \"face_location\", \"face_score\", \"second_face_score\"]\n",
    " \n",
    "df = pd.DataFrame(index = range(0,instances), columns = columns)\n",
    " \n",
    "for i in mat:\n",
    "    if i == \"wiki\":\n",
    "        current_array = mat[i][0][0]\n",
    "        \n",
    "for j in range(len(current_array)):\n",
    "    df[columns[j]] = pd.DataFrame(current_array[j][0])"
   ]
  },
  {
   "cell_type": "code",
   "execution_count": 4,
   "id": "ff669fe1-ebe9-45a9-83b0-9bea41a2a242",
   "metadata": {},
   "outputs": [
    {
     "data": {
      "text/html": [
       "<div>\n",
       "<style scoped>\n",
       "    .dataframe tbody tr th:only-of-type {\n",
       "        vertical-align: middle;\n",
       "    }\n",
       "\n",
       "    .dataframe tbody tr th {\n",
       "        vertical-align: top;\n",
       "    }\n",
       "\n",
       "    .dataframe thead th {\n",
       "        text-align: right;\n",
       "    }\n",
       "</style>\n",
       "<table border=\"1\" class=\"dataframe\">\n",
       "  <thead>\n",
       "    <tr style=\"text-align: right;\">\n",
       "      <th></th>\n",
       "      <th>dob</th>\n",
       "      <th>photo_taken</th>\n",
       "      <th>full_path</th>\n",
       "      <th>gender</th>\n",
       "      <th>name</th>\n",
       "      <th>face_location</th>\n",
       "      <th>face_score</th>\n",
       "      <th>second_face_score</th>\n",
       "    </tr>\n",
       "  </thead>\n",
       "  <tbody>\n",
       "    <tr>\n",
       "      <th>0</th>\n",
       "      <td>723671</td>\n",
       "      <td>2009</td>\n",
       "      <td>[17/10000217_1981-05-05_2009.jpg]</td>\n",
       "      <td>1.0</td>\n",
       "      <td>[Sami Jauhojärvi]</td>\n",
       "      <td>[[111.29109473290997, 111.29109473290997, 252....</td>\n",
       "      <td>4.300962</td>\n",
       "      <td>NaN</td>\n",
       "    </tr>\n",
       "    <tr>\n",
       "      <th>1</th>\n",
       "      <td>703186</td>\n",
       "      <td>1964</td>\n",
       "      <td>[48/10000548_1925-04-04_1964.jpg]</td>\n",
       "      <td>1.0</td>\n",
       "      <td>[Dettmar Cramer]</td>\n",
       "      <td>[[252.48330229530742, 126.68165114765371, 354....</td>\n",
       "      <td>2.645639</td>\n",
       "      <td>1.949248</td>\n",
       "    </tr>\n",
       "    <tr>\n",
       "      <th>2</th>\n",
       "      <td>711677</td>\n",
       "      <td>2008</td>\n",
       "      <td>[12/100012_1948-07-03_2008.jpg]</td>\n",
       "      <td>1.0</td>\n",
       "      <td>[Marc Okrand]</td>\n",
       "      <td>[[113.52, 169.83999999999997, 366.08, 422.4]]</td>\n",
       "      <td>4.329329</td>\n",
       "      <td>NaN</td>\n",
       "    </tr>\n",
       "    <tr>\n",
       "      <th>3</th>\n",
       "      <td>705061</td>\n",
       "      <td>1961</td>\n",
       "      <td>[65/10001965_1930-05-23_1961.jpg]</td>\n",
       "      <td>1.0</td>\n",
       "      <td>[Aleksandar Matanović]</td>\n",
       "      <td>[[1, 1, 634, 440]]</td>\n",
       "      <td>-inf</td>\n",
       "      <td>NaN</td>\n",
       "    </tr>\n",
       "    <tr>\n",
       "      <th>4</th>\n",
       "      <td>720044</td>\n",
       "      <td>2012</td>\n",
       "      <td>[16/10002116_1971-05-31_2012.jpg]</td>\n",
       "      <td>0.0</td>\n",
       "      <td>[Diana Damrau]</td>\n",
       "      <td>[[171.61031405173117, 75.57451239763239, 266.7...</td>\n",
       "      <td>3.408442</td>\n",
       "      <td>NaN</td>\n",
       "    </tr>\n",
       "  </tbody>\n",
       "</table>\n",
       "</div>"
      ],
      "text/plain": [
       "      dob  photo_taken                          full_path  gender  \\\n",
       "0  723671         2009  [17/10000217_1981-05-05_2009.jpg]     1.0   \n",
       "1  703186         1964  [48/10000548_1925-04-04_1964.jpg]     1.0   \n",
       "2  711677         2008    [12/100012_1948-07-03_2008.jpg]     1.0   \n",
       "3  705061         1961  [65/10001965_1930-05-23_1961.jpg]     1.0   \n",
       "4  720044         2012  [16/10002116_1971-05-31_2012.jpg]     0.0   \n",
       "\n",
       "                     name                                      face_location  \\\n",
       "0       [Sami Jauhojärvi]  [[111.29109473290997, 111.29109473290997, 252....   \n",
       "1        [Dettmar Cramer]  [[252.48330229530742, 126.68165114765371, 354....   \n",
       "2           [Marc Okrand]      [[113.52, 169.83999999999997, 366.08, 422.4]]   \n",
       "3  [Aleksandar Matanović]                                 [[1, 1, 634, 440]]   \n",
       "4          [Diana Damrau]  [[171.61031405173117, 75.57451239763239, 266.7...   \n",
       "\n",
       "   face_score  second_face_score  \n",
       "0    4.300962                NaN  \n",
       "1    2.645639           1.949248  \n",
       "2    4.329329                NaN  \n",
       "3        -inf                NaN  \n",
       "4    3.408442                NaN  "
      ]
     },
     "execution_count": 4,
     "metadata": {},
     "output_type": "execute_result"
    }
   ],
   "source": [
    "df.head()  "
   ]
  },
  {
   "cell_type": "code",
   "execution_count": 5,
   "id": "a72d292b-3581-49ec-afde-dc93d8d7cb10",
   "metadata": {},
   "outputs": [
    {
     "name": "stdout",
     "output_type": "stream",
     "text": [
      "<class 'pandas.core.frame.DataFrame'>\n",
      "RangeIndex: 62328 entries, 0 to 62327\n",
      "Data columns (total 8 columns):\n",
      " #   Column             Non-Null Count  Dtype  \n",
      "---  ------             --------------  -----  \n",
      " 0   dob                62328 non-null  int32  \n",
      " 1   photo_taken        62328 non-null  uint16 \n",
      " 2   full_path          62328 non-null  object \n",
      " 3   gender             59685 non-null  float64\n",
      " 4   name               62328 non-null  object \n",
      " 5   face_location      62328 non-null  object \n",
      " 6   face_score         62328 non-null  float64\n",
      " 7   second_face_score  4096 non-null   float64\n",
      "dtypes: float64(3), int32(1), object(3), uint16(1)\n",
      "memory usage: 3.2+ MB\n"
     ]
    }
   ],
   "source": [
    "df.info()"
   ]
  },
  {
   "cell_type": "code",
   "execution_count": 6,
   "id": "adf7f02e-6c12-4a95-9c15-ca5422ba02f5",
   "metadata": {},
   "outputs": [],
   "source": [
    "from datetime import datetime, timedelta\n",
    "def datenum_to_datetime(datenum):\n",
    "    days = datenum % 1\n",
    "    hours = days % 1 * 24\n",
    "    minutes = hours % 1 * 60\n",
    "    seconds = minutes % 1 * 60\n",
    "    exact_date = datetime.fromordinal(int(datenum)) + timedelta(days=int(days)) + timedelta(hours=int(hours)) \\\n",
    "    + timedelta(minutes=int(minutes)) + timedelta(seconds=round(seconds)) - timedelta(days=366)\n",
    "\n",
    "    return exact_date.year\n",
    " \n",
    "df['date_of_birth'] = df['dob'].apply(datenum_to_datetime)"
   ]
  },
  {
   "cell_type": "code",
   "execution_count": 7,
   "id": "c3a5fed1-032b-4b70-b9d2-6c9df92c291b",
   "metadata": {},
   "outputs": [],
   "source": [
    "df['age'] = df['photo_taken'] - df['date_of_birth'] "
   ]
  },
  {
   "cell_type": "code",
   "execution_count": 8,
   "id": "a77ab358-07c4-48db-ad93-34af317fe78d",
   "metadata": {},
   "outputs": [
    {
     "data": {
      "text/html": [
       "<div>\n",
       "<style scoped>\n",
       "    .dataframe tbody tr th:only-of-type {\n",
       "        vertical-align: middle;\n",
       "    }\n",
       "\n",
       "    .dataframe tbody tr th {\n",
       "        vertical-align: top;\n",
       "    }\n",
       "\n",
       "    .dataframe thead th {\n",
       "        text-align: right;\n",
       "    }\n",
       "</style>\n",
       "<table border=\"1\" class=\"dataframe\">\n",
       "  <thead>\n",
       "    <tr style=\"text-align: right;\">\n",
       "      <th></th>\n",
       "      <th>dob</th>\n",
       "      <th>photo_taken</th>\n",
       "      <th>full_path</th>\n",
       "      <th>gender</th>\n",
       "      <th>name</th>\n",
       "      <th>face_location</th>\n",
       "      <th>face_score</th>\n",
       "      <th>second_face_score</th>\n",
       "      <th>date_of_birth</th>\n",
       "      <th>age</th>\n",
       "    </tr>\n",
       "  </thead>\n",
       "  <tbody>\n",
       "    <tr>\n",
       "      <th>0</th>\n",
       "      <td>723671</td>\n",
       "      <td>2009</td>\n",
       "      <td>[17/10000217_1981-05-05_2009.jpg]</td>\n",
       "      <td>1.0</td>\n",
       "      <td>[Sami Jauhojärvi]</td>\n",
       "      <td>[[111.29109473290997, 111.29109473290997, 252....</td>\n",
       "      <td>4.300962</td>\n",
       "      <td>NaN</td>\n",
       "      <td>1981</td>\n",
       "      <td>28</td>\n",
       "    </tr>\n",
       "    <tr>\n",
       "      <th>1</th>\n",
       "      <td>703186</td>\n",
       "      <td>1964</td>\n",
       "      <td>[48/10000548_1925-04-04_1964.jpg]</td>\n",
       "      <td>1.0</td>\n",
       "      <td>[Dettmar Cramer]</td>\n",
       "      <td>[[252.48330229530742, 126.68165114765371, 354....</td>\n",
       "      <td>2.645639</td>\n",
       "      <td>1.949248</td>\n",
       "      <td>1925</td>\n",
       "      <td>39</td>\n",
       "    </tr>\n",
       "    <tr>\n",
       "      <th>2</th>\n",
       "      <td>711677</td>\n",
       "      <td>2008</td>\n",
       "      <td>[12/100012_1948-07-03_2008.jpg]</td>\n",
       "      <td>1.0</td>\n",
       "      <td>[Marc Okrand]</td>\n",
       "      <td>[[113.52, 169.83999999999997, 366.08, 422.4]]</td>\n",
       "      <td>4.329329</td>\n",
       "      <td>NaN</td>\n",
       "      <td>1948</td>\n",
       "      <td>60</td>\n",
       "    </tr>\n",
       "    <tr>\n",
       "      <th>3</th>\n",
       "      <td>705061</td>\n",
       "      <td>1961</td>\n",
       "      <td>[65/10001965_1930-05-23_1961.jpg]</td>\n",
       "      <td>1.0</td>\n",
       "      <td>[Aleksandar Matanović]</td>\n",
       "      <td>[[1, 1, 634, 440]]</td>\n",
       "      <td>-inf</td>\n",
       "      <td>NaN</td>\n",
       "      <td>1930</td>\n",
       "      <td>31</td>\n",
       "    </tr>\n",
       "    <tr>\n",
       "      <th>4</th>\n",
       "      <td>720044</td>\n",
       "      <td>2012</td>\n",
       "      <td>[16/10002116_1971-05-31_2012.jpg]</td>\n",
       "      <td>0.0</td>\n",
       "      <td>[Diana Damrau]</td>\n",
       "      <td>[[171.61031405173117, 75.57451239763239, 266.7...</td>\n",
       "      <td>3.408442</td>\n",
       "      <td>NaN</td>\n",
       "      <td>1971</td>\n",
       "      <td>41</td>\n",
       "    </tr>\n",
       "  </tbody>\n",
       "</table>\n",
       "</div>"
      ],
      "text/plain": [
       "      dob  photo_taken                          full_path  gender  \\\n",
       "0  723671         2009  [17/10000217_1981-05-05_2009.jpg]     1.0   \n",
       "1  703186         1964  [48/10000548_1925-04-04_1964.jpg]     1.0   \n",
       "2  711677         2008    [12/100012_1948-07-03_2008.jpg]     1.0   \n",
       "3  705061         1961  [65/10001965_1930-05-23_1961.jpg]     1.0   \n",
       "4  720044         2012  [16/10002116_1971-05-31_2012.jpg]     0.0   \n",
       "\n",
       "                     name                                      face_location  \\\n",
       "0       [Sami Jauhojärvi]  [[111.29109473290997, 111.29109473290997, 252....   \n",
       "1        [Dettmar Cramer]  [[252.48330229530742, 126.68165114765371, 354....   \n",
       "2           [Marc Okrand]      [[113.52, 169.83999999999997, 366.08, 422.4]]   \n",
       "3  [Aleksandar Matanović]                                 [[1, 1, 634, 440]]   \n",
       "4          [Diana Damrau]  [[171.61031405173117, 75.57451239763239, 266.7...   \n",
       "\n",
       "   face_score  second_face_score  date_of_birth  age  \n",
       "0    4.300962                NaN           1981   28  \n",
       "1    2.645639           1.949248           1925   39  \n",
       "2    4.329329                NaN           1948   60  \n",
       "3        -inf                NaN           1930   31  \n",
       "4    3.408442                NaN           1971   41  "
      ]
     },
     "execution_count": 8,
     "metadata": {},
     "output_type": "execute_result"
    }
   ],
   "source": [
    "df.head()"
   ]
  },
  {
   "cell_type": "code",
   "execution_count": 9,
   "id": "92753950-c575-4691-a2b5-26bea9413c6d",
   "metadata": {},
   "outputs": [],
   "source": [
    "#remove pictures does not include face\n",
    "df = df[df['face_score'] != -np.inf]\n",
    " \n",
    "#some pictures include more than one face, remove them\n",
    "df = df[df['second_face_score'].isna()]\n",
    "\n",
    "#some guys seem to be greater than 100. Let's remove them and first make a model that classifies from 1 to 100\n",
    "df = df[df['age'] <= 100]\n",
    " \n",
    "#some guys seem to be unborn in the data set i.e age < 0\n",
    "df = df[df['age'] > 0]"
   ]
  },
  {
   "cell_type": "code",
   "execution_count": 10,
   "id": "b1882529-5e41-4bd7-a71e-d8f18d96ffb0",
   "metadata": {},
   "outputs": [
    {
     "name": "stdout",
     "output_type": "stream",
     "text": [
      "<class 'pandas.core.frame.DataFrame'>\n",
      "Int64Index: 40157 entries, 0 to 62327\n",
      "Data columns (total 10 columns):\n",
      " #   Column             Non-Null Count  Dtype  \n",
      "---  ------             --------------  -----  \n",
      " 0   dob                40157 non-null  int32  \n",
      " 1   photo_taken        40157 non-null  uint16 \n",
      " 2   full_path          40157 non-null  object \n",
      " 3   gender             39397 non-null  float64\n",
      " 4   name               40157 non-null  object \n",
      " 5   face_location      40157 non-null  object \n",
      " 6   face_score         40157 non-null  float64\n",
      " 7   second_face_score  0 non-null      float64\n",
      " 8   date_of_birth      40157 non-null  int64  \n",
      " 9   age                40157 non-null  int64  \n",
      "dtypes: float64(3), int32(1), int64(2), object(3), uint16(1)\n",
      "memory usage: 3.0+ MB\n"
     ]
    }
   ],
   "source": [
    "df.info()"
   ]
  },
  {
   "cell_type": "code",
   "execution_count": 11,
   "id": "cd02d276-b5b3-498c-8696-d8bcde00cb99",
   "metadata": {},
   "outputs": [],
   "source": [
    "# Lower threshold for face_score - allows more images of poor quality (making the model more robust)\n",
    "\n",
    "df = df[df['face_score'] >= 1.75]\n",
    " \n",
    "df = df.drop(columns = ['name','face_score','second_face_score','date_of_birth','face_location'])"
   ]
  },
  {
   "cell_type": "code",
   "execution_count": 12,
   "id": "5e9211b9-cb4d-4e72-9883-9ecb077f520d",
   "metadata": {},
   "outputs": [
    {
     "name": "stdout",
     "output_type": "stream",
     "text": [
      "<class 'pandas.core.frame.DataFrame'>\n",
      "Int64Index: 34200 entries, 0 to 62327\n",
      "Data columns (total 5 columns):\n",
      " #   Column       Non-Null Count  Dtype  \n",
      "---  ------       --------------  -----  \n",
      " 0   dob          34200 non-null  int32  \n",
      " 1   photo_taken  34200 non-null  uint16 \n",
      " 2   full_path    34200 non-null  object \n",
      " 3   gender       33550 non-null  float64\n",
      " 4   age          34200 non-null  int64  \n",
      "dtypes: float64(1), int32(1), int64(1), object(1), uint16(1)\n",
      "memory usage: 1.2+ MB\n"
     ]
    }
   ],
   "source": [
    "df.info()     # Only gender has null values. Since, this project deals with age estimation\n",
    "              # only, we needn't worry about those. We would anyways be dropping gender\n",
    "              # column after EDA (or at least won't be feeding it to the model)"
   ]
  },
  {
   "cell_type": "code",
   "execution_count": 13,
   "id": "7082549a-80dd-4a8d-9487-2203b5841021",
   "metadata": {},
   "outputs": [
    {
     "data": {
      "text/html": [
       "<div>\n",
       "<style scoped>\n",
       "    .dataframe tbody tr th:only-of-type {\n",
       "        vertical-align: middle;\n",
       "    }\n",
       "\n",
       "    .dataframe tbody tr th {\n",
       "        vertical-align: top;\n",
       "    }\n",
       "\n",
       "    .dataframe thead th {\n",
       "        text-align: right;\n",
       "    }\n",
       "</style>\n",
       "<table border=\"1\" class=\"dataframe\">\n",
       "  <thead>\n",
       "    <tr style=\"text-align: right;\">\n",
       "      <th></th>\n",
       "      <th>dob</th>\n",
       "      <th>photo_taken</th>\n",
       "      <th>full_path</th>\n",
       "      <th>gender</th>\n",
       "      <th>age</th>\n",
       "    </tr>\n",
       "  </thead>\n",
       "  <tbody>\n",
       "    <tr>\n",
       "      <th>0</th>\n",
       "      <td>723671</td>\n",
       "      <td>2009</td>\n",
       "      <td>[17/10000217_1981-05-05_2009.jpg]</td>\n",
       "      <td>1.0</td>\n",
       "      <td>28</td>\n",
       "    </tr>\n",
       "    <tr>\n",
       "      <th>2</th>\n",
       "      <td>711677</td>\n",
       "      <td>2008</td>\n",
       "      <td>[12/100012_1948-07-03_2008.jpg]</td>\n",
       "      <td>1.0</td>\n",
       "      <td>60</td>\n",
       "    </tr>\n",
       "    <tr>\n",
       "      <th>4</th>\n",
       "      <td>720044</td>\n",
       "      <td>2012</td>\n",
       "      <td>[16/10002116_1971-05-31_2012.jpg]</td>\n",
       "      <td>0.0</td>\n",
       "      <td>41</td>\n",
       "    </tr>\n",
       "    <tr>\n",
       "      <th>5</th>\n",
       "      <td>716189</td>\n",
       "      <td>2012</td>\n",
       "      <td>[02/10002702_1960-11-09_2012.jpg]</td>\n",
       "      <td>0.0</td>\n",
       "      <td>52</td>\n",
       "    </tr>\n",
       "    <tr>\n",
       "      <th>6</th>\n",
       "      <td>707745</td>\n",
       "      <td>1971</td>\n",
       "      <td>[41/10003541_1937-09-27_1971.jpg]</td>\n",
       "      <td>1.0</td>\n",
       "      <td>34</td>\n",
       "    </tr>\n",
       "  </tbody>\n",
       "</table>\n",
       "</div>"
      ],
      "text/plain": [
       "      dob  photo_taken                          full_path  gender  age\n",
       "0  723671         2009  [17/10000217_1981-05-05_2009.jpg]     1.0   28\n",
       "2  711677         2008    [12/100012_1948-07-03_2008.jpg]     1.0   60\n",
       "4  720044         2012  [16/10002116_1971-05-31_2012.jpg]     0.0   41\n",
       "5  716189         2012  [02/10002702_1960-11-09_2012.jpg]     0.0   52\n",
       "6  707745         1971  [41/10003541_1937-09-27_1971.jpg]     1.0   34"
      ]
     },
     "execution_count": 13,
     "metadata": {},
     "output_type": "execute_result"
    }
   ],
   "source": [
    "df.head()"
   ]
  },
  {
   "cell_type": "code",
   "execution_count": 14,
   "id": "257f47b3-b873-42ea-aa23-560244744d19",
   "metadata": {},
   "outputs": [
    {
     "data": {
      "text/html": [
       "<div>\n",
       "<style scoped>\n",
       "    .dataframe tbody tr th:only-of-type {\n",
       "        vertical-align: middle;\n",
       "    }\n",
       "\n",
       "    .dataframe tbody tr th {\n",
       "        vertical-align: top;\n",
       "    }\n",
       "\n",
       "    .dataframe thead th {\n",
       "        text-align: right;\n",
       "    }\n",
       "</style>\n",
       "<table border=\"1\" class=\"dataframe\">\n",
       "  <thead>\n",
       "    <tr style=\"text-align: right;\">\n",
       "      <th></th>\n",
       "      <th>dob</th>\n",
       "      <th>photo_taken</th>\n",
       "      <th>gender</th>\n",
       "      <th>age</th>\n",
       "    </tr>\n",
       "  </thead>\n",
       "  <tbody>\n",
       "    <tr>\n",
       "      <th>count</th>\n",
       "      <td>34200.000000</td>\n",
       "      <td>34200.000000</td>\n",
       "      <td>33550.000000</td>\n",
       "      <td>34200.000000</td>\n",
       "    </tr>\n",
       "    <tr>\n",
       "      <th>mean</th>\n",
       "      <td>717156.505731</td>\n",
       "      <td>2001.503012</td>\n",
       "      <td>0.740447</td>\n",
       "      <td>38.492661</td>\n",
       "    </tr>\n",
       "    <tr>\n",
       "      <th>std</th>\n",
       "      <td>9180.800332</td>\n",
       "      <td>19.586437</td>\n",
       "      <td>0.438396</td>\n",
       "      <td>16.469871</td>\n",
       "    </tr>\n",
       "    <tr>\n",
       "      <th>min</th>\n",
       "      <td>677987.000000</td>\n",
       "      <td>1940.000000</td>\n",
       "      <td>0.000000</td>\n",
       "      <td>1.000000</td>\n",
       "    </tr>\n",
       "    <tr>\n",
       "      <th>25%</th>\n",
       "      <td>711082.000000</td>\n",
       "      <td>2006.000000</td>\n",
       "      <td>0.000000</td>\n",
       "      <td>26.000000</td>\n",
       "    </tr>\n",
       "    <tr>\n",
       "      <th>50%</th>\n",
       "      <td>719659.500000</td>\n",
       "      <td>2010.000000</td>\n",
       "      <td>1.000000</td>\n",
       "      <td>33.000000</td>\n",
       "    </tr>\n",
       "    <tr>\n",
       "      <th>75%</th>\n",
       "      <td>724768.250000</td>\n",
       "      <td>2013.000000</td>\n",
       "      <td>1.000000</td>\n",
       "      <td>49.000000</td>\n",
       "    </tr>\n",
       "    <tr>\n",
       "      <th>max</th>\n",
       "      <td>734922.000000</td>\n",
       "      <td>2015.000000</td>\n",
       "      <td>1.000000</td>\n",
       "      <td>100.000000</td>\n",
       "    </tr>\n",
       "  </tbody>\n",
       "</table>\n",
       "</div>"
      ],
      "text/plain": [
       "                 dob   photo_taken        gender           age\n",
       "count   34200.000000  34200.000000  33550.000000  34200.000000\n",
       "mean   717156.505731   2001.503012      0.740447     38.492661\n",
       "std      9180.800332     19.586437      0.438396     16.469871\n",
       "min    677987.000000   1940.000000      0.000000      1.000000\n",
       "25%    711082.000000   2006.000000      0.000000     26.000000\n",
       "50%    719659.500000   2010.000000      1.000000     33.000000\n",
       "75%    724768.250000   2013.000000      1.000000     49.000000\n",
       "max    734922.000000   2015.000000      1.000000    100.000000"
      ]
     },
     "execution_count": 14,
     "metadata": {},
     "output_type": "execute_result"
    }
   ],
   "source": [
    "df.describe()"
   ]
  },
  {
   "cell_type": "code",
   "execution_count": 15,
   "id": "fd2df12f-5e56-4da9-ac66-df42688f736a",
   "metadata": {},
   "outputs": [
    {
     "data": {
      "text/html": [
       "<div>\n",
       "<style scoped>\n",
       "    .dataframe tbody tr th:only-of-type {\n",
       "        vertical-align: middle;\n",
       "    }\n",
       "\n",
       "    .dataframe tbody tr th {\n",
       "        vertical-align: top;\n",
       "    }\n",
       "\n",
       "    .dataframe thead th {\n",
       "        text-align: right;\n",
       "    }\n",
       "</style>\n",
       "<table border=\"1\" class=\"dataframe\">\n",
       "  <thead>\n",
       "    <tr style=\"text-align: right;\">\n",
       "      <th></th>\n",
       "      <th>dob</th>\n",
       "      <th>photo_taken</th>\n",
       "      <th>full_path</th>\n",
       "      <th>gender</th>\n",
       "      <th>age</th>\n",
       "      <th>path</th>\n",
       "    </tr>\n",
       "  </thead>\n",
       "  <tbody>\n",
       "    <tr>\n",
       "      <th>0</th>\n",
       "      <td>723671</td>\n",
       "      <td>2009</td>\n",
       "      <td>[17/10000217_1981-05-05_2009.jpg]</td>\n",
       "      <td>1.0</td>\n",
       "      <td>28</td>\n",
       "      <td>17/10000217_1981-05-05_2009.jpg</td>\n",
       "    </tr>\n",
       "    <tr>\n",
       "      <th>2</th>\n",
       "      <td>711677</td>\n",
       "      <td>2008</td>\n",
       "      <td>[12/100012_1948-07-03_2008.jpg]</td>\n",
       "      <td>1.0</td>\n",
       "      <td>60</td>\n",
       "      <td>12/100012_1948-07-03_2008.jpg</td>\n",
       "    </tr>\n",
       "    <tr>\n",
       "      <th>4</th>\n",
       "      <td>720044</td>\n",
       "      <td>2012</td>\n",
       "      <td>[16/10002116_1971-05-31_2012.jpg]</td>\n",
       "      <td>0.0</td>\n",
       "      <td>41</td>\n",
       "      <td>16/10002116_1971-05-31_2012.jpg</td>\n",
       "    </tr>\n",
       "    <tr>\n",
       "      <th>5</th>\n",
       "      <td>716189</td>\n",
       "      <td>2012</td>\n",
       "      <td>[02/10002702_1960-11-09_2012.jpg]</td>\n",
       "      <td>0.0</td>\n",
       "      <td>52</td>\n",
       "      <td>02/10002702_1960-11-09_2012.jpg</td>\n",
       "    </tr>\n",
       "    <tr>\n",
       "      <th>6</th>\n",
       "      <td>707745</td>\n",
       "      <td>1971</td>\n",
       "      <td>[41/10003541_1937-09-27_1971.jpg]</td>\n",
       "      <td>1.0</td>\n",
       "      <td>34</td>\n",
       "      <td>41/10003541_1937-09-27_1971.jpg</td>\n",
       "    </tr>\n",
       "    <tr>\n",
       "      <th>...</th>\n",
       "      <td>...</td>\n",
       "      <td>...</td>\n",
       "      <td>...</td>\n",
       "      <td>...</td>\n",
       "      <td>...</td>\n",
       "      <td>...</td>\n",
       "    </tr>\n",
       "    <tr>\n",
       "      <th>62321</th>\n",
       "      <td>707521</td>\n",
       "      <td>1968</td>\n",
       "      <td>[38/9996938_1937-02-15_1968.jpg]</td>\n",
       "      <td>1.0</td>\n",
       "      <td>31</td>\n",
       "      <td>38/9996938_1937-02-15_1968.jpg</td>\n",
       "    </tr>\n",
       "    <tr>\n",
       "      <th>62322</th>\n",
       "      <td>709971</td>\n",
       "      <td>1968</td>\n",
       "      <td>[46/9996946_1943-11-01_1968.jpg]</td>\n",
       "      <td>1.0</td>\n",
       "      <td>25</td>\n",
       "      <td>46/9996946_1943-11-01_1968.jpg</td>\n",
       "    </tr>\n",
       "    <tr>\n",
       "      <th>62323</th>\n",
       "      <td>707582</td>\n",
       "      <td>1963</td>\n",
       "      <td>[49/9996949_1937-04-17_1963.jpg]</td>\n",
       "      <td>1.0</td>\n",
       "      <td>26</td>\n",
       "      <td>49/9996949_1937-04-17_1963.jpg</td>\n",
       "    </tr>\n",
       "    <tr>\n",
       "      <th>62325</th>\n",
       "      <td>720620</td>\n",
       "      <td>2013</td>\n",
       "      <td>[09/9998109_1972-12-27_2013.jpg]</td>\n",
       "      <td>1.0</td>\n",
       "      <td>41</td>\n",
       "      <td>09/9998109_1972-12-27_2013.jpg</td>\n",
       "    </tr>\n",
       "    <tr>\n",
       "      <th>62327</th>\n",
       "      <td>713846</td>\n",
       "      <td>2008</td>\n",
       "      <td>[80/999980_1954-06-11_2008.jpg]</td>\n",
       "      <td>0.0</td>\n",
       "      <td>54</td>\n",
       "      <td>80/999980_1954-06-11_2008.jpg</td>\n",
       "    </tr>\n",
       "  </tbody>\n",
       "</table>\n",
       "<p>34200 rows × 6 columns</p>\n",
       "</div>"
      ],
      "text/plain": [
       "          dob  photo_taken                          full_path  gender  age  \\\n",
       "0      723671         2009  [17/10000217_1981-05-05_2009.jpg]     1.0   28   \n",
       "2      711677         2008    [12/100012_1948-07-03_2008.jpg]     1.0   60   \n",
       "4      720044         2012  [16/10002116_1971-05-31_2012.jpg]     0.0   41   \n",
       "5      716189         2012  [02/10002702_1960-11-09_2012.jpg]     0.0   52   \n",
       "6      707745         1971  [41/10003541_1937-09-27_1971.jpg]     1.0   34   \n",
       "...       ...          ...                                ...     ...  ...   \n",
       "62321  707521         1968   [38/9996938_1937-02-15_1968.jpg]     1.0   31   \n",
       "62322  709971         1968   [46/9996946_1943-11-01_1968.jpg]     1.0   25   \n",
       "62323  707582         1963   [49/9996949_1937-04-17_1963.jpg]     1.0   26   \n",
       "62325  720620         2013   [09/9998109_1972-12-27_2013.jpg]     1.0   41   \n",
       "62327  713846         2008    [80/999980_1954-06-11_2008.jpg]     0.0   54   \n",
       "\n",
       "                                  path  \n",
       "0      17/10000217_1981-05-05_2009.jpg  \n",
       "2        12/100012_1948-07-03_2008.jpg  \n",
       "4      16/10002116_1971-05-31_2012.jpg  \n",
       "5      02/10002702_1960-11-09_2012.jpg  \n",
       "6      41/10003541_1937-09-27_1971.jpg  \n",
       "...                                ...  \n",
       "62321   38/9996938_1937-02-15_1968.jpg  \n",
       "62322   46/9996946_1943-11-01_1968.jpg  \n",
       "62323   49/9996949_1937-04-17_1963.jpg  \n",
       "62325   09/9998109_1972-12-27_2013.jpg  \n",
       "62327    80/999980_1954-06-11_2008.jpg  \n",
       "\n",
       "[34200 rows x 6 columns]"
      ]
     },
     "execution_count": 15,
     "metadata": {},
     "output_type": "execute_result"
    }
   ],
   "source": [
    "df['path'] = [str(np.squeeze(i)) for i in df['full_path']]\n",
    "df"
   ]
  },
  {
   "cell_type": "code",
   "execution_count": 16,
   "id": "109ebb20-c89e-4540-890a-d2a77562c9e7",
   "metadata": {},
   "outputs": [
    {
     "data": {
      "image/png": "[encoded data removed]",
      "text/plain": [
       "<Figure size 720x432 with 1 Axes>"
      ]
     },
     "metadata": {
      "needs_background": "light"
     },
     "output_type": "display_data"
    }
   ],
   "source": [
    "df['age'].hist(bins=df['age'].nunique(),color='g',figsize=(10,6))  \n",
    "\n",
    "# Pretty obvious that a large chunk of population in training data is from 20 to 60. Sort of bell-shaped curve (Gaussian Distribution)-   very non uniform\n",
    "\n",
    "plt.xlabel('Age')\n",
    "plt.ylabel('No. of people')\n",
    "plt.show()"
   ]
  },
  {
   "cell_type": "code",
   "execution_count": 17,
   "id": "fe6852cd-d8f5-4bfc-b231-b5f935a6a920",
   "metadata": {},
   "outputs": [
    {
     "data": {
      "image/png": "[encoded data removed]",
      "text/plain": [
       "<Figure size 432x288 with 1 Axes>"
      ]
     },
     "metadata": {},
     "output_type": "display_data"
    }
   ],
   "source": [
    "x1 = df[df['gender']==1]['gender'].count()\n",
    "x2 = df[df['gender']==0]['gender'].count()\n",
    "inp = [x1,x2,650]\n",
    "lab = ['Male', 'Female', 'Unknown']\n",
    "\n",
    "plt.pie(inp, labels=lab,radius=1.6,autopct='%.1f%%')\n",
    "plt.show()\n",
    "\n",
    "# Clearly, the dataset is heavily imbalanced in favour of males"
   ]
  },
  {
   "cell_type": "code",
   "execution_count": 18,
   "id": "a10b046e-a214-42c4-b013-f7018200e038",
   "metadata": {},
   "outputs": [
    {
     "data": {
      "image/png": "[encoded data removed]",
      "text/plain": [
       "<Figure size 1656x432 with 1 Axes>"
      ]
     },
     "metadata": {
      "needs_background": "light"
     },
     "output_type": "display_data"
    }
   ],
   "source": [
    "x = df.sort_values(by='photo_taken')\n",
    "\n",
    "fig= plt.figure(figsize=(23,6))                        # width and height of plot in unit inches\n",
    "axes= fig.add_axes([0.1,0.1,0.8,0.8])\n",
    "axes.plot(x['photo_taken'],x['age'])\n",
    "plt.title('Correlation b/w Age and time when photo was taken\\n')\n",
    "plt.xlabel('\\nTime of photo')\n",
    "plt.ylabel('Age')\n",
    "plt.show()\n",
    "\n",
    "# Shows that irrespective of when photo was taken, almost always ppl between 20-70 have been covered."
   ]
  },
  {
   "cell_type": "code",
   "execution_count": 19,
   "id": "08afd778-99b5-4cc3-92d1-4b9c6d1b88ce",
   "metadata": {},
   "outputs": [
    {
     "data": {
      "text/html": [
       "<div>\n",
       "<style scoped>\n",
       "    .dataframe tbody tr th:only-of-type {\n",
       "        vertical-align: middle;\n",
       "    }\n",
       "\n",
       "    .dataframe tbody tr th {\n",
       "        vertical-align: top;\n",
       "    }\n",
       "\n",
       "    .dataframe thead th {\n",
       "        text-align: right;\n",
       "    }\n",
       "</style>\n",
       "<table border=\"1\" class=\"dataframe\">\n",
       "  <thead>\n",
       "    <tr style=\"text-align: right;\">\n",
       "      <th></th>\n",
       "      <th>photo_taken</th>\n",
       "      <th>dob</th>\n",
       "      <th>gender</th>\n",
       "      <th>age</th>\n",
       "    </tr>\n",
       "  </thead>\n",
       "  <tbody>\n",
       "    <tr>\n",
       "      <th>0</th>\n",
       "      <td>1940</td>\n",
       "      <td>695432.028571</td>\n",
       "      <td>0.751196</td>\n",
       "      <td>36.480952</td>\n",
       "    </tr>\n",
       "    <tr>\n",
       "      <th>1</th>\n",
       "      <td>1941</td>\n",
       "      <td>695502.101852</td>\n",
       "      <td>0.750000</td>\n",
       "      <td>37.287037</td>\n",
       "    </tr>\n",
       "    <tr>\n",
       "      <th>2</th>\n",
       "      <td>1942</td>\n",
       "      <td>695626.866667</td>\n",
       "      <td>0.848739</td>\n",
       "      <td>37.933333</td>\n",
       "    </tr>\n",
       "    <tr>\n",
       "      <th>3</th>\n",
       "      <td>1943</td>\n",
       "      <td>696896.269565</td>\n",
       "      <td>0.745614</td>\n",
       "      <td>35.434783</td>\n",
       "    </tr>\n",
       "    <tr>\n",
       "      <th>4</th>\n",
       "      <td>1944</td>\n",
       "      <td>696866.064815</td>\n",
       "      <td>0.859813</td>\n",
       "      <td>36.583333</td>\n",
       "    </tr>\n",
       "  </tbody>\n",
       "</table>\n",
       "</div>"
      ],
      "text/plain": [
       "   photo_taken            dob    gender        age\n",
       "0         1940  695432.028571  0.751196  36.480952\n",
       "1         1941  695502.101852  0.750000  37.287037\n",
       "2         1942  695626.866667  0.848739  37.933333\n",
       "3         1943  696896.269565  0.745614  35.434783\n",
       "4         1944  696866.064815  0.859813  36.583333"
      ]
     },
     "execution_count": 19,
     "metadata": {},
     "output_type": "execute_result"
    }
   ],
   "source": [
    "df_copy = df.groupby(['photo_taken'], as_index=False).mean()\n",
    "df_copy.head()\n",
    "\n",
    "# Only interested in mean age"
   ]
  },
  {
   "cell_type": "code",
   "execution_count": 20,
   "id": "551784b0-31a6-4f76-aabb-b03a8ef2fd46",
   "metadata": {},
   "outputs": [
    {
     "data": {
      "image/png": "[encoded data removed]",
      "text/plain": [
       "<Figure size 864x504 with 1 Axes>"
      ]
     },
     "metadata": {
      "needs_background": "light"
     },
     "output_type": "display_data"
    }
   ],
   "source": [
    "df_copy.plot(x = 'photo_taken', y = 'age', figsize = (12,7), color = 'green', linewidth =2)\n",
    "plt.title(\"Photo time vs age plot\")\n",
    "plt.xticks(rotation=0)\n",
    "plt.show()\n",
    "\n",
    "# Clearly, more aged people were photographed during 1980-2005. There seems to be some correlation !"
   ]
  },
  {
   "cell_type": "code",
   "execution_count": 21,
   "id": "8aa9b17b-1c3a-479d-b141-38a810b179ea",
   "metadata": {},
   "outputs": [],
   "source": [
    " \n",
    "\n",
    "\n",
    "# For further EDA on images itself, we need to extract their pixel values. These pixel values won't have any use other than in EDA\n",
    "\n",
    "target_size = (180, 180)\n",
    " \n",
    "def get_image_pixel(image_path):\n",
    "    pic = load_img(\"Downloads/wiki_crop/wiki_crop/%s\" % image_path[0], color_mode='grayscale', target_size=target_size)\n",
    "    x = img_to_array(pic).reshape(1, -1)[0]\n",
    "    return x\n",
    " \n",
    "df['pixels'] = df['full_path'].apply(get_image_pixel)"
   ]
  },
  {
   "cell_type": "code",
   "execution_count": 22,
   "id": "6eeff0a0-3200-48c5-9608-2a18f9ee6ece",
   "metadata": {},
   "outputs": [
    {
     "data": {
      "text/html": [
       "<div>\n",
       "<style scoped>\n",
       "    .dataframe tbody tr th:only-of-type {\n",
       "        vertical-align: middle;\n",
       "    }\n",
       "\n",
       "    .dataframe tbody tr th {\n",
       "        vertical-align: top;\n",
       "    }\n",
       "\n",
       "    .dataframe thead th {\n",
       "        text-align: right;\n",
       "    }\n",
       "</style>\n",
       "<table border=\"1\" class=\"dataframe\">\n",
       "  <thead>\n",
       "    <tr style=\"text-align: right;\">\n",
       "      <th></th>\n",
       "      <th>dob</th>\n",
       "      <th>photo_taken</th>\n",
       "      <th>full_path</th>\n",
       "      <th>gender</th>\n",
       "      <th>age</th>\n",
       "      <th>path</th>\n",
       "      <th>pixels</th>\n",
       "    </tr>\n",
       "  </thead>\n",
       "  <tbody>\n",
       "    <tr>\n",
       "      <th>0</th>\n",
       "      <td>723671</td>\n",
       "      <td>2009</td>\n",
       "      <td>[17/10000217_1981-05-05_2009.jpg]</td>\n",
       "      <td>1.0</td>\n",
       "      <td>28</td>\n",
       "      <td>17/10000217_1981-05-05_2009.jpg</td>\n",
       "      <td>[255.0, 255.0, 255.0, 255.0, 255.0, 255.0, 255...</td>\n",
       "    </tr>\n",
       "    <tr>\n",
       "      <th>2</th>\n",
       "      <td>711677</td>\n",
       "      <td>2008</td>\n",
       "      <td>[12/100012_1948-07-03_2008.jpg]</td>\n",
       "      <td>1.0</td>\n",
       "      <td>60</td>\n",
       "      <td>12/100012_1948-07-03_2008.jpg</td>\n",
       "      <td>[95.0, 92.0, 96.0, 96.0, 99.0, 98.0, 93.0, 93....</td>\n",
       "    </tr>\n",
       "    <tr>\n",
       "      <th>4</th>\n",
       "      <td>720044</td>\n",
       "      <td>2012</td>\n",
       "      <td>[16/10002116_1971-05-31_2012.jpg]</td>\n",
       "      <td>0.0</td>\n",
       "      <td>41</td>\n",
       "      <td>16/10002116_1971-05-31_2012.jpg</td>\n",
       "      <td>[37.0, 37.0, 37.0, 37.0, 37.0, 37.0, 37.0, 37....</td>\n",
       "    </tr>\n",
       "    <tr>\n",
       "      <th>5</th>\n",
       "      <td>716189</td>\n",
       "      <td>2012</td>\n",
       "      <td>[02/10002702_1960-11-09_2012.jpg]</td>\n",
       "      <td>0.0</td>\n",
       "      <td>52</td>\n",
       "      <td>02/10002702_1960-11-09_2012.jpg</td>\n",
       "      <td>[121.0, 121.0, 121.0, 122.0, 122.0, 123.0, 123...</td>\n",
       "    </tr>\n",
       "    <tr>\n",
       "      <th>6</th>\n",
       "      <td>707745</td>\n",
       "      <td>1971</td>\n",
       "      <td>[41/10003541_1937-09-27_1971.jpg]</td>\n",
       "      <td>1.0</td>\n",
       "      <td>34</td>\n",
       "      <td>41/10003541_1937-09-27_1971.jpg</td>\n",
       "      <td>[190.0, 204.0, 203.0, 201.0, 204.0, 200.0, 201...</td>\n",
       "    </tr>\n",
       "  </tbody>\n",
       "</table>\n",
       "</div>"
      ],
      "text/plain": [
       "      dob  photo_taken                          full_path  gender  age  \\\n",
       "0  723671         2009  [17/10000217_1981-05-05_2009.jpg]     1.0   28   \n",
       "2  711677         2008    [12/100012_1948-07-03_2008.jpg]     1.0   60   \n",
       "4  720044         2012  [16/10002116_1971-05-31_2012.jpg]     0.0   41   \n",
       "5  716189         2012  [02/10002702_1960-11-09_2012.jpg]     0.0   52   \n",
       "6  707745         1971  [41/10003541_1937-09-27_1971.jpg]     1.0   34   \n",
       "\n",
       "                              path  \\\n",
       "0  17/10000217_1981-05-05_2009.jpg   \n",
       "2    12/100012_1948-07-03_2008.jpg   \n",
       "4  16/10002116_1971-05-31_2012.jpg   \n",
       "5  02/10002702_1960-11-09_2012.jpg   \n",
       "6  41/10003541_1937-09-27_1971.jpg   \n",
       "\n",
       "                                              pixels  \n",
       "0  [255.0, 255.0, 255.0, 255.0, 255.0, 255.0, 255...  \n",
       "2  [95.0, 92.0, 96.0, 96.0, 99.0, 98.0, 93.0, 93....  \n",
       "4  [37.0, 37.0, 37.0, 37.0, 37.0, 37.0, 37.0, 37....  \n",
       "5  [121.0, 121.0, 121.0, 122.0, 122.0, 123.0, 123...  \n",
       "6  [190.0, 204.0, 203.0, 201.0, 204.0, 200.0, 201...  "
      ]
     },
     "execution_count": 22,
     "metadata": {},
     "output_type": "execute_result"
    }
   ],
   "source": [
    "df.head()"
   ]
  },
  {
   "cell_type": "code",
   "execution_count": 23,
   "id": "9d337f38-9f2b-4ba0-9396-6ec37b069a87",
   "metadata": {},
   "outputs": [
    {
     "data": {
      "text/plain": [
       "array([  1,   3,   4,   5,   6,   7,   8,   9,  10,  11,  12,  13,  14,\n",
       "        15,  16,  17,  18,  19,  20,  21,  22,  23,  24,  25,  26,  27,\n",
       "        28,  29,  30,  31,  32,  33,  34,  35,  36,  37,  38,  39,  40,\n",
       "        41,  42,  43,  44,  45,  46,  47,  48,  49,  50,  51,  52,  53,\n",
       "        54,  55,  56,  57,  58,  59,  60,  61,  62,  63,  64,  65,  66,\n",
       "        67,  68,  69,  70,  71,  72,  73,  74,  75,  76,  77,  78,  79,\n",
       "        80,  81,  82,  83,  84,  85,  86,  87,  88,  89,  90,  91,  92,\n",
       "        93,  94,  95,  96,  97,  98,  99, 100], dtype=int64)"
      ]
     },
     "execution_count": 23,
     "metadata": {},
     "output_type": "execute_result"
    }
   ],
   "source": [
    "x = df['age']           # We have 97 unique age values with us. 2,3,4 are missing\n",
    "x = x.sort_values()\n",
    "x.unique()"
   ]
  },
  {
   "cell_type": "code",
   "execution_count": 24,
   "id": "3719a321-3602-4161-85b4-c32cfeb6902c",
   "metadata": {},
   "outputs": [
    {
     "data": {
      "text/plain": [
       "32400"
      ]
     },
     "execution_count": 24,
     "metadata": {},
     "output_type": "execute_result"
    }
   ],
   "source": [
    "df['pixels'][0].size"
   ]
  },
  {
   "cell_type": "code",
   "execution_count": 25,
   "id": "44c1eb8b-ab83-4d1f-82b6-8aff125eb9f9",
   "metadata": {},
   "outputs": [
    {
     "name": "stderr",
     "output_type": "stream",
     "text": [
      "<ipython-input-25-1c097e156e34>:10: SettingWithCopyWarning: \n",
      "A value is trying to be set on a copy of a slice from a DataFrame\n",
      "\n",
      "See the caveats in the documentation: https://pandas.pydata.org/pandas-docs/stable/user_guide/indexing.html#returning-a-view-versus-a-copy\n",
      "  x['pixel_per_image'][i] = x['pixels'][i].mean()\n"
     ]
    },
    {
     "data": {
      "text/html": [
       "<div>\n",
       "<style scoped>\n",
       "    .dataframe tbody tr th:only-of-type {\n",
       "        vertical-align: middle;\n",
       "    }\n",
       "\n",
       "    .dataframe tbody tr th {\n",
       "        vertical-align: top;\n",
       "    }\n",
       "\n",
       "    .dataframe thead th {\n",
       "        text-align: right;\n",
       "    }\n",
       "</style>\n",
       "<table border=\"1\" class=\"dataframe\">\n",
       "  <thead>\n",
       "    <tr style=\"text-align: right;\">\n",
       "      <th></th>\n",
       "      <th>index</th>\n",
       "      <th>dob</th>\n",
       "      <th>photo_taken</th>\n",
       "      <th>full_path</th>\n",
       "      <th>gender</th>\n",
       "      <th>age</th>\n",
       "      <th>path</th>\n",
       "      <th>pixels</th>\n",
       "      <th>pixel_per_image</th>\n",
       "      <th>pixel_deviation_per_image</th>\n",
       "    </tr>\n",
       "  </thead>\n",
       "  <tbody>\n",
       "    <tr>\n",
       "      <th>0</th>\n",
       "      <td>53357</td>\n",
       "      <td>734922</td>\n",
       "      <td>2013</td>\n",
       "      <td>[27/34853027_2012-02-23_2013.jpg]</td>\n",
       "      <td>0.0</td>\n",
       "      <td>1</td>\n",
       "      <td>27/34853027_2012-02-23_2013.jpg</td>\n",
       "      <td>[200.0, 200.0, 200.0, 200.0, 200.0, 200.0, 200...</td>\n",
       "      <td>175.383606</td>\n",
       "      <td>[200.0, 200.0, 200.0, 200.0, 200.0, 200.0, 200...</td>\n",
       "    </tr>\n",
       "    <tr>\n",
       "      <th>1</th>\n",
       "      <td>5669</td>\n",
       "      <td>717349</td>\n",
       "      <td>1965</td>\n",
       "      <td>[33/6802033_1964-01-13_1965.jpg]</td>\n",
       "      <td>1.0</td>\n",
       "      <td>1</td>\n",
       "      <td>33/6802033_1964-01-13_1965.jpg</td>\n",
       "      <td>[196.0, 196.0, 196.0, 196.0, 196.0, 196.0, 196...</td>\n",
       "      <td>133.573547</td>\n",
       "      <td>[196.0, 196.0, 196.0, 196.0, 196.0, 196.0, 196...</td>\n",
       "    </tr>\n",
       "    <tr>\n",
       "      <th>2</th>\n",
       "      <td>41240</td>\n",
       "      <td>707981</td>\n",
       "      <td>1941</td>\n",
       "      <td>[57/35652957_1938-05-21_1941.jpg]</td>\n",
       "      <td>1.0</td>\n",
       "      <td>3</td>\n",
       "      <td>57/35652957_1938-05-21_1941.jpg</td>\n",
       "      <td>[219.0, 181.0, 195.0, 212.0, 180.0, 168.0, 182...</td>\n",
       "      <td>151.886765</td>\n",
       "      <td>[219.0, 181.0, 195.0, 212.0, 180.0, 168.0, 182...</td>\n",
       "    </tr>\n",
       "    <tr>\n",
       "      <th>3</th>\n",
       "      <td>42685</td>\n",
       "      <td>732518</td>\n",
       "      <td>2009</td>\n",
       "      <td>[81/37696581_2005-07-25_2009.jpg]</td>\n",
       "      <td>1.0</td>\n",
       "      <td>4</td>\n",
       "      <td>81/37696581_2005-07-25_2009.jpg</td>\n",
       "      <td>[201.0, 201.0, 201.0, 201.0, 201.0, 201.0, 201...</td>\n",
       "      <td>127.414413</td>\n",
       "      <td>[201.0, 201.0, 201.0, 201.0, 201.0, 201.0, 201...</td>\n",
       "    </tr>\n",
       "    <tr>\n",
       "      <th>4</th>\n",
       "      <td>53303</td>\n",
       "      <td>731956</td>\n",
       "      <td>2009</td>\n",
       "      <td>[76/24896876_2004-01-10_2009.jpg]</td>\n",
       "      <td>0.0</td>\n",
       "      <td>5</td>\n",
       "      <td>76/24896876_2004-01-10_2009.jpg</td>\n",
       "      <td>[14.0, 14.0, 14.0, 14.0, 14.0, 14.0, 14.0, 14....</td>\n",
       "      <td>97.552902</td>\n",
       "      <td>[14.0, 14.0, 14.0, 14.0, 14.0, 14.0, 14.0, 14....</td>\n",
       "    </tr>\n",
       "  </tbody>\n",
       "</table>\n",
       "</div>"
      ],
      "text/plain": [
       "   index     dob  photo_taken                          full_path  gender  age  \\\n",
       "0  53357  734922         2013  [27/34853027_2012-02-23_2013.jpg]     0.0    1   \n",
       "1   5669  717349         1965   [33/6802033_1964-01-13_1965.jpg]     1.0    1   \n",
       "2  41240  707981         1941  [57/35652957_1938-05-21_1941.jpg]     1.0    3   \n",
       "3  42685  732518         2009  [81/37696581_2005-07-25_2009.jpg]     1.0    4   \n",
       "4  53303  731956         2009  [76/24896876_2004-01-10_2009.jpg]     0.0    5   \n",
       "\n",
       "                              path  \\\n",
       "0  27/34853027_2012-02-23_2013.jpg   \n",
       "1   33/6802033_1964-01-13_1965.jpg   \n",
       "2  57/35652957_1938-05-21_1941.jpg   \n",
       "3  81/37696581_2005-07-25_2009.jpg   \n",
       "4  76/24896876_2004-01-10_2009.jpg   \n",
       "\n",
       "                                              pixels pixel_per_image  \\\n",
       "0  [200.0, 200.0, 200.0, 200.0, 200.0, 200.0, 200...      175.383606   \n",
       "1  [196.0, 196.0, 196.0, 196.0, 196.0, 196.0, 196...      133.573547   \n",
       "2  [219.0, 181.0, 195.0, 212.0, 180.0, 168.0, 182...      151.886765   \n",
       "3  [201.0, 201.0, 201.0, 201.0, 201.0, 201.0, 201...      127.414413   \n",
       "4  [14.0, 14.0, 14.0, 14.0, 14.0, 14.0, 14.0, 14....       97.552902   \n",
       "\n",
       "                           pixel_deviation_per_image  \n",
       "0  [200.0, 200.0, 200.0, 200.0, 200.0, 200.0, 200...  \n",
       "1  [196.0, 196.0, 196.0, 196.0, 196.0, 196.0, 196...  \n",
       "2  [219.0, 181.0, 195.0, 212.0, 180.0, 168.0, 182...  \n",
       "3  [201.0, 201.0, 201.0, 201.0, 201.0, 201.0, 201...  \n",
       "4  [14.0, 14.0, 14.0, 14.0, 14.0, 14.0, 14.0, 14....  "
      ]
     },
     "execution_count": 25,
     "metadata": {},
     "output_type": "execute_result"
    }
   ],
   "source": [
    "# Here, we get the average pixel value for every image\n",
    "\n",
    "x = df.sort_values(by='age')\n",
    "x.reset_index(inplace=True)\n",
    "\n",
    "x['pixel_per_image'] = x['pixels']\n",
    "x['pixel_deviation_per_image'] = x['pixels']\n",
    "\n",
    "for i in range(34200):\n",
    "  x['pixel_per_image'][i] = x['pixels'][i].mean()\n",
    "#  x['pixel_deviation_per_image'][i] = x['pixels'][i].max()-x['pixels'][i].min()\n",
    "\n",
    "x.head()"
   ]
  },
  {
   "cell_type": "code",
   "execution_count": 26,
   "id": "218d5761-0f26-4730-9de3-bff575ace02e",
   "metadata": {},
   "outputs": [
    {
     "name": "stdout",
     "output_type": "stream",
     "text": [
      "11.686481\n",
      "254.98425\n",
      "110.10616959064328\n"
     ]
    }
   ],
   "source": [
    "print(x['pixel_per_image'].min())          \n",
    "\n",
    "print(x['pixel_per_image'].max())\n",
    "\n",
    "print(x['pixel_per_image'].mean())     # Average pixel value across all images"
   ]
  },
  {
   "cell_type": "code",
   "execution_count": 27,
   "id": "60a8cb55-d461-4592-a7d4-e667e7661e96",
   "metadata": {},
   "outputs": [
    {
     "data": {
      "image/png": "[encoded data removed]",
      "text/plain": [
       "<Figure size 432x288 with 1 Axes>"
      ]
     },
     "metadata": {
      "needs_background": "light"
     },
     "output_type": "display_data"
    }
   ],
   "source": [
    "sns.stripplot(x='gender', y='pixel_per_image', data=x, alpha=0.3, jitter=True);"
   ]
  },
  {
   "cell_type": "code",
   "execution_count": 28,
   "id": "97b28876-7adf-45bd-9f88-0832f599ecfb",
   "metadata": {},
   "outputs": [
    {
     "name": "stdout",
     "output_type": "stream",
     "text": [
      "24842\n",
      "8708\n"
     ]
    }
   ],
   "source": [
    "print(x[x['gender']==1]['index'].count())      # male count\n",
    "print(x[x['gender']==0]['index'].count())      # female count"
   ]
  },
  {
   "cell_type": "code",
   "execution_count": 29,
   "id": "50627e9b-f8e0-408c-a2be-95bfae6cd88c",
   "metadata": {},
   "outputs": [
    {
     "name": "stdout",
     "output_type": "stream",
     "text": [
      "110.37515136107434   109.28285277059553\n"
     ]
    }
   ],
   "source": [
    "sum1=0\n",
    "sum2=0\n",
    "for i in range(34200):\n",
    "    if x['gender'][i]==1:\n",
    "        sum1+=x['pixel_per_image'][i]\n",
    "    \n",
    "    elif x['gender'][i]==0:\n",
    "        sum2+=x['pixel_per_image'][i]\n",
    "\n",
    "val1 = sum1/24842                 # Avg pixel value for male\n",
    "val2 = sum2/8708                  # Avg pixel value for female\n",
    "\n",
    "print(val1,' ',val2)              # Mean pixel val for male and female"
   ]
  },
  {
   "cell_type": "code",
   "execution_count": 31,
   "id": "4d90989f-5ecf-4a2e-ba0a-1f924615f627",
   "metadata": {},
   "outputs": [],
   "source": [
    "# Plotting the KDE Plot \n",
    "#sns.kdeplot(x.loc[(x['gender']==1),'pixel_per_image'], color='r', shade=True, Label='Male') \n",
    "  \n",
    "#sns.kdeplot(x.loc[(x['gender']==0),'pixel_per_image'], color='b', shade=True, Label='Female') \n",
    "  \n",
    "#plt.xlabel('Avg pixel value per image') \n",
    "#plt.ylabel('Probability Density') \n",
    "#plt.title('Kernel Density Estimate plot to visualize probability density at different values in a continuous variable\\n')\n",
    "#plt.show()"
   ]
  },
  {
   "cell_type": "code",
   "execution_count": 32,
   "id": "6ca4fb1b-9f43-4603-8ac4-1dffcb88833a",
   "metadata": {},
   "outputs": [
    {
     "data": {
      "image/png": "[encoded data removed]",
      "text/plain": [
       "<Figure size 412x360 with 1 Axes>"
      ]
     },
     "metadata": {
      "needs_background": "light"
     },
     "output_type": "display_data"
    }
   ],
   "source": [
    "sns.lmplot(x='age', y='pixel_per_image', hue='gender', data=x, fit_reg=False, scatter_kws={'alpha':0.5})\n",
    "plt.title('Avg pixel value in an image vs Age\\n')\n",
    "plt.show()"
   ]
  },
  {
   "cell_type": "code",
   "execution_count": 33,
   "id": "7691893b-9b86-4133-9a07-9de4ab829568",
   "metadata": {},
   "outputs": [],
   "source": [
    "#print(x['pixel_deviation_per_image'].any().min())          \n",
    "\n",
    "#print(x['pixel_deviation_per_image'].max().all())\n",
    "\n",
    "#print(x['pixel_deviation_per_image'].mean().all())             # Average pixel deviation across all images"
   ]
  },
  {
   "cell_type": "code",
   "execution_count": 34,
   "id": "c7d0b04c-befb-4d15-968b-f19cba84b8c3",
   "metadata": {},
   "outputs": [],
   "source": [
    "#sns.stripplot(x='gender', y='pixel_deviation_per_image', data=x, alpha=0.3, jitter=True);"
   ]
  },
  {
   "cell_type": "code",
   "execution_count": 36,
   "id": "51d96866-b3f6-400c-9acd-6b3f4c8b5f0f",
   "metadata": {},
   "outputs": [],
   "source": [
    "#sns.lmplot(x='age', y='pixel_deviation_per_image', hue='gender', data=x, fit_reg=False, scatter_kws={'alpha':0.5})\n",
    "#plt.title('Avg pixel deviation in an image vs Age, whilst studying its dependency on gender \\n')\n",
    "#plt.show()"
   ]
  },
  {
   "cell_type": "code",
   "execution_count": 37,
   "id": "89093950-4505-449f-9a69-4c35f768c729",
   "metadata": {},
   "outputs": [
    {
     "name": "stderr",
     "output_type": "stream",
     "text": [
      "<ipython-input-37-0309054940ff>:6: SettingWithCopyWarning: \n",
      "A value is trying to be set on a copy of a slice from a DataFrame\n",
      "\n",
      "See the caveats in the documentation: https://pandas.pydata.org/pandas-docs/stable/user_guide/indexing.html#returning-a-view-versus-a-copy\n",
      "  y['mean_pixel'][0] = (x['pixel_per_image'][0] + x['pixel_per_image'][1])/2\n",
      "<ipython-input-37-0309054940ff>:7: SettingWithCopyWarning: \n",
      "A value is trying to be set on a copy of a slice from a DataFrame\n",
      "\n",
      "See the caveats in the documentation: https://pandas.pydata.org/pandas-docs/stable/user_guide/indexing.html#returning-a-view-versus-a-copy\n",
      "  y['mean_pixel'][1] = x['pixel_per_image'][2]\n",
      "<ipython-input-37-0309054940ff>:19: SettingWithCopyWarning: \n",
      "A value is trying to be set on a copy of a slice from a DataFrame\n",
      "\n",
      "See the caveats in the documentation: https://pandas.pydata.org/pandas-docs/stable/user_guide/indexing.html#returning-a-view-versus-a-copy\n",
      "  y['mean_pixel'][j] = ans\n",
      "<ipython-input-37-0309054940ff>:26: SettingWithCopyWarning: \n",
      "A value is trying to be set on a copy of a slice from a DataFrame\n",
      "\n",
      "See the caveats in the documentation: https://pandas.pydata.org/pandas-docs/stable/user_guide/indexing.html#returning-a-view-versus-a-copy\n",
      "  y['mean_pixel'][j] = ans\n"
     ]
    },
    {
     "data": {
      "text/html": [
       "<div>\n",
       "<style scoped>\n",
       "    .dataframe tbody tr th:only-of-type {\n",
       "        vertical-align: middle;\n",
       "    }\n",
       "\n",
       "    .dataframe tbody tr th {\n",
       "        vertical-align: top;\n",
       "    }\n",
       "\n",
       "    .dataframe thead th {\n",
       "        text-align: right;\n",
       "    }\n",
       "</style>\n",
       "<table border=\"1\" class=\"dataframe\">\n",
       "  <thead>\n",
       "    <tr style=\"text-align: right;\">\n",
       "      <th></th>\n",
       "      <th>age</th>\n",
       "      <th>mean_pixel</th>\n",
       "    </tr>\n",
       "  </thead>\n",
       "  <tbody>\n",
       "    <tr>\n",
       "      <th>0</th>\n",
       "      <td>1</td>\n",
       "      <td>154.478577</td>\n",
       "    </tr>\n",
       "    <tr>\n",
       "      <th>1</th>\n",
       "      <td>3</td>\n",
       "      <td>151.886765</td>\n",
       "    </tr>\n",
       "    <tr>\n",
       "      <th>2</th>\n",
       "      <td>4</td>\n",
       "      <td>127.414413</td>\n",
       "    </tr>\n",
       "    <tr>\n",
       "      <th>3</th>\n",
       "      <td>5</td>\n",
       "      <td>97.552902</td>\n",
       "    </tr>\n",
       "    <tr>\n",
       "      <th>4</th>\n",
       "      <td>6</td>\n",
       "      <td>113.383489</td>\n",
       "    </tr>\n",
       "  </tbody>\n",
       "</table>\n",
       "</div>"
      ],
      "text/plain": [
       "   age  mean_pixel\n",
       "0    1  154.478577\n",
       "1    3  151.886765\n",
       "2    4  127.414413\n",
       "3    5   97.552902\n",
       "4    6  113.383489"
      ]
     },
     "execution_count": 37,
     "metadata": {},
     "output_type": "execute_result"
    }
   ],
   "source": [
    "# I wanted to find average pixel value for a given age. So some computation is required.\n",
    "\n",
    "y = pd.DataFrame();\n",
    "y['age'] = x['age'].unique()\n",
    "y['mean_pixel'] = 1.1\n",
    "y['mean_pixel'][0] = (x['pixel_per_image'][0] + x['pixel_per_image'][1])/2\n",
    "y['mean_pixel'][1] = x['pixel_per_image'][2]\n",
    "sum=0\n",
    "count=1\n",
    "j = 2\n",
    "for i in range(3,34199):\n",
    "    if x['age'][i]==x['age'][i+1]:\n",
    "        sum+=x['pixel_per_image'][i]\n",
    "        count+=1\n",
    "    \n",
    "    else:\n",
    "        sum+=x['pixel_per_image'][i]\n",
    "        ans = sum/count\n",
    "        y['mean_pixel'][j] = ans\n",
    "        count=1\n",
    "        sum=0\n",
    "        j+=1\n",
    "        \n",
    "sum+=x['pixel_per_image'][34199]\n",
    "ans = sum/count\n",
    "y['mean_pixel'][j] = ans\n",
    "y.head()"
   ]
  },
  {
   "cell_type": "code",
   "execution_count": 38,
   "id": "e6c4f3fc-9a9b-43f8-9918-b2bdbc7ed3cd",
   "metadata": {},
   "outputs": [
    {
     "data": {
      "image/png": "[encoded data removed]",
      "text/plain": [
       "<Figure size 864x504 with 1 Axes>"
      ]
     },
     "metadata": {
      "needs_background": "light"
     },
     "output_type": "display_data"
    }
   ],
   "source": [
    "y.plot(x = 'age' ,y = 'mean_pixel', figsize = (12,7), color = 'green', linewidth =2)\n",
    "plt.title('Relation b/w age and average pixel value')\n",
    "plt.xticks(rotation=0)\n",
    "plt.show()"
   ]
  },
  {
   "cell_type": "code",
   "execution_count": 39,
   "id": "e17defa0-d38d-4699-b396-f59b679413e5",
   "metadata": {},
   "outputs": [],
   "source": [
    "#pip uninstall keras-preprocessing"
   ]
  },
  {
   "cell_type": "code",
   "execution_count": 40,
   "id": "ec543a7a-8614-45e0-91db-5d7fdb4c9254",
   "metadata": {},
   "outputs": [],
   "source": [
    "#pip install git+https://github.com/keras-team/keras-preprocessing.git -q"
   ]
  },
  {
   "cell_type": "code",
   "execution_count": 41,
   "id": "08c968a7-4af6-40dd-8b1c-f900a1c54509",
   "metadata": {},
   "outputs": [],
   "source": [
    "from sklearn.utils import shuffle\n",
    "df = shuffle(df)\n",
    "train = df[:28500]\n",
    "val = df[28500:]"
   ]
  },
  {
   "cell_type": "code",
   "execution_count": 44,
   "id": "acab6c39-5cda-4699-8612-f753cc291f71",
   "metadata": {},
   "outputs": [
    {
     "name": "stdout",
     "output_type": "stream",
     "text": [
      "Found 28500 validated image filenames.\n",
      "Found 5700 validated image filenames.\n"
     ]
    }
   ],
   "source": [
    "from keras_preprocessing.image import ImageDataGenerator\n",
    "\n",
    "train_datagen=ImageDataGenerator(rescale=1./255.,                # IDG instance\n",
    "                           rotation_range=25,\n",
    "                           brightness_range=[0.7,1.3],\n",
    "                           zoom_range=0.5,\n",
    "                           horizontal_flip=True)    \n",
    "\n",
    "valid_datagen=ImageDataGenerator(rescale=1./255.)                # IDG instance\n",
    "                           \n",
    "\n",
    "train_generator = train_datagen.flow_from_dataframe(\n",
    "    dataframe=train,\n",
    "    directory='Downloads/wiki_crop/wiki_crop',\n",
    "    x_col=\"path\",\n",
    "    y_col=\"age\",\n",
    "    batch_size=64,\n",
    "    seed=42,\n",
    "    shuffle=True,\n",
    "    class_mode=\"raw\",\n",
    "    target_size=(180,180))\n",
    "\n",
    "valid_generator=valid_datagen.flow_from_dataframe(\n",
    "    dataframe=val,\n",
    "    directory=\"Downloads/wiki_crop/wiki_crop\",\n",
    "    x_col=\"path\",\n",
    "    y_col=\"age\",\n",
    "    batch_size=64,\n",
    "    seed=42,\n",
    "    shuffle=True,\n",
    "    class_mode=\"raw\",\n",
    "    target_size=(180,180))"
   ]
  },
  {
   "cell_type": "code",
   "execution_count": 46,
   "id": "c1157cd1-d18e-4e32-be7b-af6ee6cf9971",
   "metadata": {},
   "outputs": [],
   "source": [
    "from keras.models import Model\n",
    "#from keras.layers.normalization import BatchNormalization\n",
    "from keras.layers.convolutional import SeparableConv2D\n",
    "from keras.layers.convolutional import MaxPooling2D\n",
    "from keras.layers import SpatialDropout2D\n",
    "from keras.layers.core import Activation\n",
    "from keras.layers.core import Dropout\n",
    "from keras.layers.core import Lambda\n",
    "from keras.layers.core import Dense\n",
    "from keras.layers import Flatten\n",
    "from keras.layers import Input\n",
    "from keras.regularizers import l1_l2\n",
    "\n",
    "input_shape = (180, 180, 3)\n",
    "inputs = Input(shape=input_shape)\n",
    "\n",
    "x = SeparableConv2D(64, (3, 3), padding=\"same\")(inputs)\n",
    "x = Activation(\"relu\")(x)\n",
    "x = MaxPooling2D(pool_size=(2, 2))(x)\n",
    "x = BatchNormalization()(x)\n",
    "\n",
    "x = SeparableConv2D(128, (3, 3), padding=\"same\")(x)\n",
    "x = Activation(\"relu\")(x)\n",
    "x = MaxPooling2D(pool_size=(2, 2))(x)\n",
    "x = BatchNormalization()(x)\n",
    "\n",
    "x = SeparableConv2D(128, (3, 3), padding=\"same\")(x)\n",
    "x = Activation(\"relu\")(x)\n",
    "x = MaxPooling2D(pool_size=(2, 2))(x)\n",
    "x = SpatialDropout2D(0.15)(x)\n",
    "x = BatchNormalization()(x)\n",
    "\n",
    "x = SeparableConv2D(256, (3, 3), padding=\"same\")(x)\n",
    "x = Activation(\"relu\")(x)\n",
    "x = MaxPooling2D(pool_size=(2, 2))(x)\n",
    "x = SpatialDropout2D(0.15)(x)\n",
    "x = BatchNormalization()(x)\n",
    "\n",
    "x = SeparableConv2D(256, (3, 3), padding=\"same\")(x)\n",
    "x = Activation(\"relu\")(x)\n",
    "x = MaxPooling2D(pool_size=(2, 2))(x)\n",
    "x = SpatialDropout2D(0.15)(x)\n",
    "x = BatchNormalization()(x)\n",
    "\n",
    "x = Flatten()(x)\n",
    "\n",
    "x = Dense(128)(x)\n",
    "x = Activation(\"relu\")(x)\n",
    "x = Dropout(0.30)(x)\n",
    "x = BatchNormalization()(x)\n",
    "\n",
    "x = Dense(64)(x)\n",
    "x = Activation(\"relu\")(x)\n",
    "x = Dropout(0.30)(x)\n",
    "x = BatchNormalization()(x)\n",
    "\n",
    "x = Dense(64)(x)\n",
    "x = Activation(\"relu\")(x)\n",
    "x = Dropout(0.20)(x)\n",
    "x = BatchNormalization()(x)\n",
    "\n",
    "x = Dense(1)(x)\n",
    "x = Activation(\"relu\")(x)           # linear also works. But relu is better\n",
    "\n",
    "age_model = Model(inputs=inputs, outputs=x)"
   ]
  },
  {
   "cell_type": "code",
   "execution_count": 48,
   "id": "6896baf7-2861-4b9b-bf84-331f92d40217",
   "metadata": {},
   "outputs": [
    {
     "name": "stdout",
     "output_type": "stream",
     "text": [
      "Model: \"model\"\n",
      "_________________________________________________________________\n",
      " Layer (type)                Output Shape              Param #   \n",
      "=================================================================\n",
      " input_1 (InputLayer)        [(None, 180, 180, 3)]     0         \n",
      "                                                                 \n",
      " separable_conv2d (Separable  (None, 180, 180, 64)     283       \n",
      " Conv2D)                                                         \n",
      "                                                                 \n",
      " activation (Activation)     (None, 180, 180, 64)      0         \n",
      "                                                                 \n",
      " max_pooling2d (MaxPooling2D  (None, 90, 90, 64)       0         \n",
      " )                                                               \n",
      "                                                                 \n",
      " batch_normalization (BatchN  (None, 90, 90, 64)       256       \n",
      " ormalization)                                                   \n",
      "                                                                 \n",
      " separable_conv2d_1 (Separab  (None, 90, 90, 128)      8896      \n",
      " leConv2D)                                                       \n",
      "                                                                 \n",
      " activation_1 (Activation)   (None, 90, 90, 128)       0         \n",
      "                                                                 \n",
      " max_pooling2d_1 (MaxPooling  (None, 45, 45, 128)      0         \n",
      " 2D)                                                             \n",
      "                                                                 \n",
      " batch_normalization_1 (Batc  (None, 45, 45, 128)      512       \n",
      " hNormalization)                                                 \n",
      "                                                                 \n",
      " separable_conv2d_2 (Separab  (None, 45, 45, 128)      17664     \n",
      " leConv2D)                                                       \n",
      "                                                                 \n",
      " activation_2 (Activation)   (None, 45, 45, 128)       0         \n",
      "                                                                 \n",
      " max_pooling2d_2 (MaxPooling  (None, 22, 22, 128)      0         \n",
      " 2D)                                                             \n",
      "                                                                 \n",
      " spatial_dropout2d (SpatialD  (None, 22, 22, 128)      0         \n",
      " ropout2D)                                                       \n",
      "                                                                 \n",
      " batch_normalization_2 (Batc  (None, 22, 22, 128)      512       \n",
      " hNormalization)                                                 \n",
      "                                                                 \n",
      " separable_conv2d_3 (Separab  (None, 22, 22, 256)      34176     \n",
      " leConv2D)                                                       \n",
      "                                                                 \n",
      " activation_3 (Activation)   (None, 22, 22, 256)       0         \n",
      "                                                                 \n",
      " max_pooling2d_3 (MaxPooling  (None, 11, 11, 256)      0         \n",
      " 2D)                                                             \n",
      "                                                                 \n",
      " spatial_dropout2d_1 (Spatia  (None, 11, 11, 256)      0         \n",
      " lDropout2D)                                                     \n",
      "                                                                 \n",
      " batch_normalization_3 (Batc  (None, 11, 11, 256)      1024      \n",
      " hNormalization)                                                 \n",
      "                                                                 \n",
      " separable_conv2d_4 (Separab  (None, 11, 11, 256)      68096     \n",
      " leConv2D)                                                       \n",
      "                                                                 \n",
      " activation_4 (Activation)   (None, 11, 11, 256)       0         \n",
      "                                                                 \n",
      " max_pooling2d_4 (MaxPooling  (None, 5, 5, 256)        0         \n",
      " 2D)                                                             \n",
      "                                                                 \n",
      " spatial_dropout2d_2 (Spatia  (None, 5, 5, 256)        0         \n",
      " lDropout2D)                                                     \n",
      "                                                                 \n",
      " batch_normalization_4 (Batc  (None, 5, 5, 256)        1024      \n",
      " hNormalization)                                                 \n",
      "                                                                 \n",
      " flatten (Flatten)           (None, 6400)              0         \n",
      "                                                                 \n",
      " dense (Dense)               (None, 128)               819328    \n",
      "                                                                 \n",
      " activation_5 (Activation)   (None, 128)               0         \n",
      "                                                                 \n",
      " dropout (Dropout)           (None, 128)               0         \n",
      "                                                                 \n",
      " batch_normalization_5 (Batc  (None, 128)              512       \n",
      " hNormalization)                                                 \n",
      "                                                                 \n",
      " dense_1 (Dense)             (None, 64)                8256      \n",
      "                                                                 \n",
      " activation_6 (Activation)   (None, 64)                0         \n",
      "                                                                 \n",
      " dropout_1 (Dropout)         (None, 64)                0         \n",
      "                                                                 \n",
      " batch_normalization_6 (Batc  (None, 64)               256       \n",
      " hNormalization)                                                 \n",
      "                                                                 \n",
      " dense_2 (Dense)             (None, 64)                4160      \n",
      "                                                                 \n",
      " activation_7 (Activation)   (None, 64)                0         \n",
      "                                                                 \n",
      " dropout_2 (Dropout)         (None, 64)                0         \n",
      "                                                                 \n",
      " batch_normalization_7 (Batc  (None, 64)               256       \n",
      " hNormalization)                                                 \n",
      "                                                                 \n",
      " dense_3 (Dense)             (None, 1)                 65        \n",
      "                                                                 \n",
      " activation_8 (Activation)   (None, 1)                 0         \n",
      "                                                                 \n",
      "=================================================================\n",
      "Total params: 965,276\n",
      "Trainable params: 963,100\n",
      "Non-trainable params: 2,176\n",
      "_________________________________________________________________\n"
     ]
    }
   ],
   "source": [
    "age_model.summary()"
   ]
  },
  {
   "cell_type": "code",
   "execution_count": 58,
   "id": "d40f7dc9-db22-4e20-8281-09ba59475feb",
   "metadata": {},
   "outputs": [
    {
     "name": "stderr",
     "output_type": "stream",
     "text": [
      "C:\\Users\\Mmn\\anaconda3\\lib\\site-packages\\keras\\optimizer_v2\\adam.py:105: UserWarning: The `lr` argument is deprecated, use `learning_rate` instead.\n",
      "  super(Adam, self).__init__(name, **kwargs)\n",
      "<ipython-input-58-efe1db32be92>:21: UserWarning: `Model.fit_generator` is deprecated and will be removed in a future version. Please use `Model.fit`, which supports generators.\n",
      "  history = age_model.fit_generator(generator=train_generator,steps_per_epoch=STEP_SIZE_TRAIN, validation_data=valid_generator,\n"
     ]
    },
    {
     "name": "stdout",
     "output_type": "stream",
     "text": [
      "Epoch 1/45\n",
      "218/460 [=============>................] - ETA: 16:11 - loss: 528.6266 - mae: 17.7052 - mse: 528.6266"
     ]
    },
    {
     "ename": "KeyboardInterrupt",
     "evalue": "",
     "output_type": "error",
     "traceback": [
      "\u001b[1;31m---------------------------------------------------------------------------\u001b[0m",
      "\u001b[1;31mKeyboardInterrupt\u001b[0m                         Traceback (most recent call last)",
      "\u001b[1;32m<ipython-input-58-efe1db32be92>\u001b[0m in \u001b[0;36m<module>\u001b[1;34m\u001b[0m\n\u001b[0;32m     19\u001b[0m \u001b[0mSTEP_SIZE_VALID\u001b[0m\u001b[1;33m=\u001b[0m\u001b[1;36m460\u001b[0m\u001b[1;33m\u001b[0m\u001b[1;33m\u001b[0m\u001b[0m\n\u001b[0;32m     20\u001b[0m \u001b[1;33m\u001b[0m\u001b[0m\n\u001b[1;32m---> 21\u001b[1;33m history = age_model.fit_generator(generator=train_generator,steps_per_epoch=STEP_SIZE_TRAIN, validation_data=valid_generator,\n\u001b[0m\u001b[0;32m     22\u001b[0m                      validation_steps=STEP_SIZE_VALID, callbacks=callbacks_list, epochs=45)\n",
      "\u001b[1;32m~\\anaconda3\\lib\\site-packages\\keras\\engine\\training.py\u001b[0m in \u001b[0;36mfit_generator\u001b[1;34m(self, generator, steps_per_epoch, epochs, verbose, callbacks, validation_data, validation_steps, validation_freq, class_weight, max_queue_size, workers, use_multiprocessing, shuffle, initial_epoch)\u001b[0m\n\u001b[0;32m   2207\u001b[0m         \u001b[1;34m'Please use `Model.fit`, which supports generators.'\u001b[0m\u001b[1;33m,\u001b[0m\u001b[1;33m\u001b[0m\u001b[1;33m\u001b[0m\u001b[0m\n\u001b[0;32m   2208\u001b[0m         stacklevel=2)\n\u001b[1;32m-> 2209\u001b[1;33m     return self.fit(\n\u001b[0m\u001b[0;32m   2210\u001b[0m         \u001b[0mgenerator\u001b[0m\u001b[1;33m,\u001b[0m\u001b[1;33m\u001b[0m\u001b[1;33m\u001b[0m\u001b[0m\n\u001b[0;32m   2211\u001b[0m         \u001b[0msteps_per_epoch\u001b[0m\u001b[1;33m=\u001b[0m\u001b[0msteps_per_epoch\u001b[0m\u001b[1;33m,\u001b[0m\u001b[1;33m\u001b[0m\u001b[1;33m\u001b[0m\u001b[0m\n",
      "\u001b[1;32m~\\anaconda3\\lib\\site-packages\\keras\\utils\\traceback_utils.py\u001b[0m in \u001b[0;36merror_handler\u001b[1;34m(*args, **kwargs)\u001b[0m\n\u001b[0;32m     62\u001b[0m     \u001b[0mfiltered_tb\u001b[0m \u001b[1;33m=\u001b[0m \u001b[1;32mNone\u001b[0m\u001b[1;33m\u001b[0m\u001b[1;33m\u001b[0m\u001b[0m\n\u001b[0;32m     63\u001b[0m     \u001b[1;32mtry\u001b[0m\u001b[1;33m:\u001b[0m\u001b[1;33m\u001b[0m\u001b[1;33m\u001b[0m\u001b[0m\n\u001b[1;32m---> 64\u001b[1;33m       \u001b[1;32mreturn\u001b[0m \u001b[0mfn\u001b[0m\u001b[1;33m(\u001b[0m\u001b[1;33m*\u001b[0m\u001b[0margs\u001b[0m\u001b[1;33m,\u001b[0m \u001b[1;33m**\u001b[0m\u001b[0mkwargs\u001b[0m\u001b[1;33m)\u001b[0m\u001b[1;33m\u001b[0m\u001b[1;33m\u001b[0m\u001b[0m\n\u001b[0m\u001b[0;32m     65\u001b[0m     \u001b[1;32mexcept\u001b[0m \u001b[0mException\u001b[0m \u001b[1;32mas\u001b[0m \u001b[0me\u001b[0m\u001b[1;33m:\u001b[0m  \u001b[1;31m# pylint: disable=broad-except\u001b[0m\u001b[1;33m\u001b[0m\u001b[1;33m\u001b[0m\u001b[0m\n\u001b[0;32m     66\u001b[0m       \u001b[0mfiltered_tb\u001b[0m \u001b[1;33m=\u001b[0m \u001b[0m_process_traceback_frames\u001b[0m\u001b[1;33m(\u001b[0m\u001b[0me\u001b[0m\u001b[1;33m.\u001b[0m\u001b[0m__traceback__\u001b[0m\u001b[1;33m)\u001b[0m\u001b[1;33m\u001b[0m\u001b[1;33m\u001b[0m\u001b[0m\n",
      "\u001b[1;32m~\\anaconda3\\lib\\site-packages\\keras\\engine\\training.py\u001b[0m in \u001b[0;36mfit\u001b[1;34m(self, x, y, batch_size, epochs, verbose, callbacks, validation_split, validation_data, shuffle, class_weight, sample_weight, initial_epoch, steps_per_epoch, validation_steps, validation_batch_size, validation_freq, max_queue_size, workers, use_multiprocessing)\u001b[0m\n\u001b[0;32m   1382\u001b[0m                 _r=1):\n\u001b[0;32m   1383\u001b[0m               \u001b[0mcallbacks\u001b[0m\u001b[1;33m.\u001b[0m\u001b[0mon_train_batch_begin\u001b[0m\u001b[1;33m(\u001b[0m\u001b[0mstep\u001b[0m\u001b[1;33m)\u001b[0m\u001b[1;33m\u001b[0m\u001b[1;33m\u001b[0m\u001b[0m\n\u001b[1;32m-> 1384\u001b[1;33m               \u001b[0mtmp_logs\u001b[0m \u001b[1;33m=\u001b[0m \u001b[0mself\u001b[0m\u001b[1;33m.\u001b[0m\u001b[0mtrain_function\u001b[0m\u001b[1;33m(\u001b[0m\u001b[0miterator\u001b[0m\u001b[1;33m)\u001b[0m\u001b[1;33m\u001b[0m\u001b[1;33m\u001b[0m\u001b[0m\n\u001b[0m\u001b[0;32m   1385\u001b[0m               \u001b[1;32mif\u001b[0m \u001b[0mdata_handler\u001b[0m\u001b[1;33m.\u001b[0m\u001b[0mshould_sync\u001b[0m\u001b[1;33m:\u001b[0m\u001b[1;33m\u001b[0m\u001b[1;33m\u001b[0m\u001b[0m\n\u001b[0;32m   1386\u001b[0m                 \u001b[0mcontext\u001b[0m\u001b[1;33m.\u001b[0m\u001b[0masync_wait\u001b[0m\u001b[1;33m(\u001b[0m\u001b[1;33m)\u001b[0m\u001b[1;33m\u001b[0m\u001b[1;33m\u001b[0m\u001b[0m\n",
      "\u001b[1;32m~\\anaconda3\\lib\\site-packages\\tensorflow\\python\\util\\traceback_utils.py\u001b[0m in \u001b[0;36merror_handler\u001b[1;34m(*args, **kwargs)\u001b[0m\n\u001b[0;32m    148\u001b[0m     \u001b[0mfiltered_tb\u001b[0m \u001b[1;33m=\u001b[0m \u001b[1;32mNone\u001b[0m\u001b[1;33m\u001b[0m\u001b[1;33m\u001b[0m\u001b[0m\n\u001b[0;32m    149\u001b[0m     \u001b[1;32mtry\u001b[0m\u001b[1;33m:\u001b[0m\u001b[1;33m\u001b[0m\u001b[1;33m\u001b[0m\u001b[0m\n\u001b[1;32m--> 150\u001b[1;33m       \u001b[1;32mreturn\u001b[0m \u001b[0mfn\u001b[0m\u001b[1;33m(\u001b[0m\u001b[1;33m*\u001b[0m\u001b[0margs\u001b[0m\u001b[1;33m,\u001b[0m \u001b[1;33m**\u001b[0m\u001b[0mkwargs\u001b[0m\u001b[1;33m)\u001b[0m\u001b[1;33m\u001b[0m\u001b[1;33m\u001b[0m\u001b[0m\n\u001b[0m\u001b[0;32m    151\u001b[0m     \u001b[1;32mexcept\u001b[0m \u001b[0mException\u001b[0m \u001b[1;32mas\u001b[0m \u001b[0me\u001b[0m\u001b[1;33m:\u001b[0m\u001b[1;33m\u001b[0m\u001b[1;33m\u001b[0m\u001b[0m\n\u001b[0;32m    152\u001b[0m       \u001b[0mfiltered_tb\u001b[0m \u001b[1;33m=\u001b[0m \u001b[0m_process_traceback_frames\u001b[0m\u001b[1;33m(\u001b[0m\u001b[0me\u001b[0m\u001b[1;33m.\u001b[0m\u001b[0m__traceback__\u001b[0m\u001b[1;33m)\u001b[0m\u001b[1;33m\u001b[0m\u001b[1;33m\u001b[0m\u001b[0m\n",
      "\u001b[1;32m~\\anaconda3\\lib\\site-packages\\tensorflow\\python\\eager\\def_function.py\u001b[0m in \u001b[0;36m__call__\u001b[1;34m(self, *args, **kwds)\u001b[0m\n\u001b[0;32m    913\u001b[0m \u001b[1;33m\u001b[0m\u001b[0m\n\u001b[0;32m    914\u001b[0m       \u001b[1;32mwith\u001b[0m \u001b[0mOptionalXlaContext\u001b[0m\u001b[1;33m(\u001b[0m\u001b[0mself\u001b[0m\u001b[1;33m.\u001b[0m\u001b[0m_jit_compile\u001b[0m\u001b[1;33m)\u001b[0m\u001b[1;33m:\u001b[0m\u001b[1;33m\u001b[0m\u001b[1;33m\u001b[0m\u001b[0m\n\u001b[1;32m--> 915\u001b[1;33m         \u001b[0mresult\u001b[0m \u001b[1;33m=\u001b[0m \u001b[0mself\u001b[0m\u001b[1;33m.\u001b[0m\u001b[0m_call\u001b[0m\u001b[1;33m(\u001b[0m\u001b[1;33m*\u001b[0m\u001b[0margs\u001b[0m\u001b[1;33m,\u001b[0m \u001b[1;33m**\u001b[0m\u001b[0mkwds\u001b[0m\u001b[1;33m)\u001b[0m\u001b[1;33m\u001b[0m\u001b[1;33m\u001b[0m\u001b[0m\n\u001b[0m\u001b[0;32m    916\u001b[0m \u001b[1;33m\u001b[0m\u001b[0m\n\u001b[0;32m    917\u001b[0m       \u001b[0mnew_tracing_count\u001b[0m \u001b[1;33m=\u001b[0m \u001b[0mself\u001b[0m\u001b[1;33m.\u001b[0m\u001b[0mexperimental_get_tracing_count\u001b[0m\u001b[1;33m(\u001b[0m\u001b[1;33m)\u001b[0m\u001b[1;33m\u001b[0m\u001b[1;33m\u001b[0m\u001b[0m\n",
      "\u001b[1;32m~\\anaconda3\\lib\\site-packages\\tensorflow\\python\\eager\\def_function.py\u001b[0m in \u001b[0;36m_call\u001b[1;34m(self, *args, **kwds)\u001b[0m\n\u001b[0;32m    945\u001b[0m       \u001b[1;31m# In this case we have created variables on the first call, so we run the\u001b[0m\u001b[1;33m\u001b[0m\u001b[1;33m\u001b[0m\u001b[1;33m\u001b[0m\u001b[0m\n\u001b[0;32m    946\u001b[0m       \u001b[1;31m# defunned version which is guaranteed to never create variables.\u001b[0m\u001b[1;33m\u001b[0m\u001b[1;33m\u001b[0m\u001b[1;33m\u001b[0m\u001b[0m\n\u001b[1;32m--> 947\u001b[1;33m       \u001b[1;32mreturn\u001b[0m \u001b[0mself\u001b[0m\u001b[1;33m.\u001b[0m\u001b[0m_stateless_fn\u001b[0m\u001b[1;33m(\u001b[0m\u001b[1;33m*\u001b[0m\u001b[0margs\u001b[0m\u001b[1;33m,\u001b[0m \u001b[1;33m**\u001b[0m\u001b[0mkwds\u001b[0m\u001b[1;33m)\u001b[0m  \u001b[1;31m# pylint: disable=not-callable\u001b[0m\u001b[1;33m\u001b[0m\u001b[1;33m\u001b[0m\u001b[0m\n\u001b[0m\u001b[0;32m    948\u001b[0m     \u001b[1;32melif\u001b[0m \u001b[0mself\u001b[0m\u001b[1;33m.\u001b[0m\u001b[0m_stateful_fn\u001b[0m \u001b[1;32mis\u001b[0m \u001b[1;32mnot\u001b[0m \u001b[1;32mNone\u001b[0m\u001b[1;33m:\u001b[0m\u001b[1;33m\u001b[0m\u001b[1;33m\u001b[0m\u001b[0m\n\u001b[0;32m    949\u001b[0m       \u001b[1;31m# Release the lock early so that multiple threads can perform the call\u001b[0m\u001b[1;33m\u001b[0m\u001b[1;33m\u001b[0m\u001b[1;33m\u001b[0m\u001b[0m\n",
      "\u001b[1;32m~\\anaconda3\\lib\\site-packages\\tensorflow\\python\\eager\\function.py\u001b[0m in \u001b[0;36m__call__\u001b[1;34m(self, *args, **kwargs)\u001b[0m\n\u001b[0;32m   2954\u001b[0m       (graph_function,\n\u001b[0;32m   2955\u001b[0m        filtered_flat_args) = self._maybe_define_function(args, kwargs)\n\u001b[1;32m-> 2956\u001b[1;33m     return graph_function._call_flat(\n\u001b[0m\u001b[0;32m   2957\u001b[0m         filtered_flat_args, captured_inputs=graph_function.captured_inputs)  # pylint: disable=protected-access\n\u001b[0;32m   2958\u001b[0m \u001b[1;33m\u001b[0m\u001b[0m\n",
      "\u001b[1;32m~\\anaconda3\\lib\\site-packages\\tensorflow\\python\\eager\\function.py\u001b[0m in \u001b[0;36m_call_flat\u001b[1;34m(self, args, captured_inputs, cancellation_manager)\u001b[0m\n\u001b[0;32m   1851\u001b[0m         and executing_eagerly):\n\u001b[0;32m   1852\u001b[0m       \u001b[1;31m# No tape is watching; skip to running the function.\u001b[0m\u001b[1;33m\u001b[0m\u001b[1;33m\u001b[0m\u001b[1;33m\u001b[0m\u001b[0m\n\u001b[1;32m-> 1853\u001b[1;33m       return self._build_call_outputs(self._inference_function.call(\n\u001b[0m\u001b[0;32m   1854\u001b[0m           ctx, args, cancellation_manager=cancellation_manager))\n\u001b[0;32m   1855\u001b[0m     forward_backward = self._select_forward_and_backward_functions(\n",
      "\u001b[1;32m~\\anaconda3\\lib\\site-packages\\tensorflow\\python\\eager\\function.py\u001b[0m in \u001b[0;36mcall\u001b[1;34m(self, ctx, args, cancellation_manager)\u001b[0m\n\u001b[0;32m    497\u001b[0m       \u001b[1;32mwith\u001b[0m \u001b[0m_InterpolateFunctionError\u001b[0m\u001b[1;33m(\u001b[0m\u001b[0mself\u001b[0m\u001b[1;33m)\u001b[0m\u001b[1;33m:\u001b[0m\u001b[1;33m\u001b[0m\u001b[1;33m\u001b[0m\u001b[0m\n\u001b[0;32m    498\u001b[0m         \u001b[1;32mif\u001b[0m \u001b[0mcancellation_manager\u001b[0m \u001b[1;32mis\u001b[0m \u001b[1;32mNone\u001b[0m\u001b[1;33m:\u001b[0m\u001b[1;33m\u001b[0m\u001b[1;33m\u001b[0m\u001b[0m\n\u001b[1;32m--> 499\u001b[1;33m           outputs = execute.execute(\n\u001b[0m\u001b[0;32m    500\u001b[0m               \u001b[0mstr\u001b[0m\u001b[1;33m(\u001b[0m\u001b[0mself\u001b[0m\u001b[1;33m.\u001b[0m\u001b[0msignature\u001b[0m\u001b[1;33m.\u001b[0m\u001b[0mname\u001b[0m\u001b[1;33m)\u001b[0m\u001b[1;33m,\u001b[0m\u001b[1;33m\u001b[0m\u001b[1;33m\u001b[0m\u001b[0m\n\u001b[0;32m    501\u001b[0m               \u001b[0mnum_outputs\u001b[0m\u001b[1;33m=\u001b[0m\u001b[0mself\u001b[0m\u001b[1;33m.\u001b[0m\u001b[0m_num_outputs\u001b[0m\u001b[1;33m,\u001b[0m\u001b[1;33m\u001b[0m\u001b[1;33m\u001b[0m\u001b[0m\n",
      "\u001b[1;32m~\\anaconda3\\lib\\site-packages\\tensorflow\\python\\eager\\execute.py\u001b[0m in \u001b[0;36mquick_execute\u001b[1;34m(op_name, num_outputs, inputs, attrs, ctx, name)\u001b[0m\n\u001b[0;32m     52\u001b[0m   \u001b[1;32mtry\u001b[0m\u001b[1;33m:\u001b[0m\u001b[1;33m\u001b[0m\u001b[1;33m\u001b[0m\u001b[0m\n\u001b[0;32m     53\u001b[0m     \u001b[0mctx\u001b[0m\u001b[1;33m.\u001b[0m\u001b[0mensure_initialized\u001b[0m\u001b[1;33m(\u001b[0m\u001b[1;33m)\u001b[0m\u001b[1;33m\u001b[0m\u001b[1;33m\u001b[0m\u001b[0m\n\u001b[1;32m---> 54\u001b[1;33m     tensors = pywrap_tfe.TFE_Py_Execute(ctx._handle, device_name, op_name,\n\u001b[0m\u001b[0;32m     55\u001b[0m                                         inputs, attrs, num_outputs)\n\u001b[0;32m     56\u001b[0m   \u001b[1;32mexcept\u001b[0m \u001b[0mcore\u001b[0m\u001b[1;33m.\u001b[0m\u001b[0m_NotOkStatusException\u001b[0m \u001b[1;32mas\u001b[0m \u001b[0me\u001b[0m\u001b[1;33m:\u001b[0m\u001b[1;33m\u001b[0m\u001b[1;33m\u001b[0m\u001b[0m\n",
      "\u001b[1;31mKeyboardInterrupt\u001b[0m: "
     ]
    }
   ],
   "source": [
    "from tensorflow.keras.optimizers import Adam\n",
    "from keras.callbacks import LearningRateScheduler\n",
    "import math\n",
    "\n",
    "def step_decay(epoch):\n",
    "\tinitial_lrate = 0.008\n",
    "\tdrop = 0.7\n",
    "\tepochs_drop = 12.0\n",
    "\tlrate = initial_lrate * math.pow(drop, math.floor((1+epoch)/epochs_drop))\n",
    "\treturn lrate      \n",
    "\n",
    "opt = Adam(learning_rate=0.0)\n",
    "lrate = LearningRateScheduler(step_decay)\n",
    "callbacks_list = [lrate]\n",
    "\n",
    "age_model.compile(loss='mse', optimizer=opt, metrics=['mae','mse'])\n",
    "\n",
    "STEP_SIZE_TRAIN=460\n",
    "STEP_SIZE_VALID=460\n",
    "\n",
    "history = age_model.fit_generator(generator=train_generator,steps_per_epoch=STEP_SIZE_TRAIN, validation_data=valid_generator,\n",
    "                     validation_steps=STEP_SIZE_VALID, callbacks=callbacks_list, epochs=45)"
   ]
  },
  {
   "cell_type": "code",
   "execution_count": 52,
   "id": "50019bfd-bb4c-4843-a7ce-bd731d43ff8b",
   "metadata": {},
   "outputs": [
    {
     "name": "stdout",
     "output_type": "stream",
     "text": [
      "WARNING:tensorflow:Compiled the loaded model, but the compiled metrics have yet to be built. `model.compile_metrics` will be empty until you train or evaluate the model.\n",
      "INFO:tensorflow:Assets written to: /content/drive/My Drive/Colab Notebooks/1\\assets\n",
      "WARNING:tensorflow:Compiled the loaded model, but the compiled metrics have yet to be built. `model.compile_metrics` will be empty until you train or evaluate the model.\n"
     ]
    }
   ],
   "source": [
    "age_model.save('/content/drive/My Drive/Colab Notebooks/1')\n",
    "age_model.save('/content/drive/My Drive/Colab Notebooks/1.h5')"
   ]
  },
  {
   "cell_type": "code",
   "execution_count": null,
   "id": "aaa4c3e8-194a-4756-b87f-4a28fbad91f9",
   "metadata": {},
   "outputs": [],
   "source": [
    "from keras.preprocessing import image\n",
    "from keras.preprocessing.image import ImageDataGenerator\n",
    " \n",
    "def loadImage(filepath):\n",
    "  test_img = image.load_img(filepath, target_size=(180, 180))\n",
    "  test_img = image.img_to_array(test_img)\n",
    "  test_img = np.expand_dims(test_img, axis = 0)\n",
    "  test_img /= 255\n",
    "  return test_img\n",
    "\n",
    " # This picture should be in the same directory from which the nb is running\n",
    "picture = \"/content/drive/My Drive/o.jpg\"                                  \n",
    "img = image.load_img(picture)                        \n",
    "plt.imshow(img)\n",
    "plt.show()\n",
    "\n",
    "prediction = age_model.predict(loadImage(picture))\n",
    "print(prediction)"
   ]
  },
  {
   "cell_type": "code",
   "execution_count": null,
   "id": "c27f11d1-f22d-42fa-bf1d-f8b975bd6239",
   "metadata": {},
   "outputs": [],
   "source": []
  },
  {
   "cell_type": "code",
   "execution_count": null,
   "id": "1d4e08a4-6a5e-4b94-a41f-69d3957d4dfa",
   "metadata": {},
   "outputs": [],
   "source": []
  }
 ],
 "metadata": {
  "kernelspec": {
   "display_name": "Python 3",
   "language": "python",
   "name": "python3"
  },
  "language_info": {
   "codemirror_mode": {
    "name": "ipython",
    "version": 3
   },
   "file_extension": ".py",
   "mimetype": "text/x-python",
   "name": "python",
   "nbconvert_exporter": "python",
   "pygments_lexer": "ipython3",
   "version": "3.8.8"
  }
 },
 "nbformat": 4,
 "nbformat_minor": 5
}
